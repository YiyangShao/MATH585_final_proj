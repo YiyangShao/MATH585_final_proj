{
 "cells": [
  {
   "cell_type": "code",
   "execution_count": 1,
   "metadata": {},
   "outputs": [],
   "source": [
    "API_KEY = \"\"\n",
    "import os\n",
    "import openai\n",
    "import pandas as pd\n",
    "openai.api_key = API_KEY"
   ]
  },
  {
   "cell_type": "code",
   "execution_count": 14,
   "metadata": {},
   "outputs": [],
   "source": [
    "import os\n",
    "import openai\n",
    "import pandas as pd\n",
    "openai.api_key = API_KEY"
   ]
  },
  {
   "cell_type": "code",
   "execution_count": 3,
   "metadata": {},
   "outputs": [],
   "source": [
    "def get_completion(prompt, model=\"gpt-3.5-turbo\"):\n",
    "\n",
    "    messages = [{\"role\": \"user\", \"content\": prompt}]\n",
    "\n",
    "    response = openai.ChatCompletion.create(\n",
    "\n",
    "    model=model,\n",
    "\n",
    "    messages=messages,\n",
    "\n",
    "    temperature=0,\n",
    "\n",
    "    )\n",
    "    # print(response)\n",
    "    return response.choices[0].message[\"content\"]"
   ]
  },
  {
   "cell_type": "code",
   "execution_count": 5,
   "metadata": {},
   "outputs": [
    {
     "name": "stdout",
     "output_type": "stream",
     "text": [
      "NEUTRAL\n"
     ]
    }
   ],
   "source": [
    "prompt = \"You will work as a Sentiment Analysis for Financial News. You will only answer as: \\n\\n BEARISH, BULLISH, NEUTRAL. No further explanation=.\"\n",
    "\n",
    "question = \"This Ford vs. GM Feud Could Shape the Future of EVs in America.\"\n",
    "\n",
    "response = get_completion(prompt + question)\n",
    "\n",
    "print(response)"
   ]
  },
  {
   "cell_type": "code",
   "execution_count": 6,
   "metadata": {},
   "outputs": [],
   "source": [
    "def get_sentiment_completion(question, model=\"gpt-3.5-turbo\"):\n",
    "    system_analysis_prompt =  \"You will work as a Sentiment Analysis for Financial News. You will only answer as: \\n\\n BEARISH, BULLISH, NEUTRAL. No further explanation=.\"\n",
    "    messages = []\n",
    "    messages = [{\"role\": \"system\", \"content\": system_analysis_prompt}]\n",
    "    messages.append({\"role\": \"user\", \"content\":question})\n",
    "    response = openai.ChatCompletion.create(\n",
    "        model=model,\n",
    "        messages=messages,\n",
    "        temperature=0,\n",
    "    )\n",
    "    # print(response)\n",
    "    return response.choices[0].message[\"content\"]"
   ]
  },
  {
   "cell_type": "code",
   "execution_count": 8,
   "metadata": {},
   "outputs": [],
   "source": [
    "with open(\"../data/news_100.txt\") as f:\n",
    "    content = f.readlines()"
   ]
  },
  {
   "cell_type": "code",
   "execution_count": 9,
   "metadata": {},
   "outputs": [],
   "source": [
    "# nltk_result = []\n",
    "# for c in content:\n",
    "#     nltk_result.append(get_sentiment_completion(c))"
   ]
  },
  {
   "cell_type": "code",
   "execution_count": 11,
   "metadata": {},
   "outputs": [
    {
     "name": "stderr",
     "output_type": "stream",
     "text": [
      "100%|██████████| 110/110 [00:56<00:00,  1.95it/s]\n"
     ]
    }
   ],
   "source": [
    "from tqdm import tqdm\n",
    "from multiprocess import Pool\n",
    "\n",
    "max_pool = 5\n",
    "\n",
    "with Pool(max_pool) as p:\n",
    "    pool_outputs = list(\n",
    "        tqdm(\n",
    "            p.imap(get_sentiment_completion,\n",
    "                   content),\n",
    "            total=len(content)\n",
    "        )\n",
    "    )    \n"
   ]
  },
  {
   "cell_type": "code",
   "execution_count": 15,
   "metadata": {},
   "outputs": [],
   "source": [
    "def convert_output(output):\n",
    "    converted = []\n",
    "    dic = {\n",
    "        'BULLISH': 1,\n",
    "        'NEUTRAL': 0,\n",
    "        'BEARISH': -1,\n",
    "    }\n",
    "    for i in output:\n",
    "        if i not in dic:\n",
    "            print(\"error\")\n",
    "        else:\n",
    "            converted.append(dic[i])\n",
    "    return converted\n",
    "\n",
    "df_gpt = pd.DataFrame({\n",
    "    \"content\": content,\n",
    "    \"sentiment\": convert_output(pool_outputs)\n",
    "})\n",
    "        \n",
    "        "
   ]
  },
  {
   "cell_type": "code",
   "execution_count": 17,
   "metadata": {},
   "outputs": [],
   "source": [
    "df_gpt.to_csv(\"../results/news_100_gpt.csv\")"
   ]
  },
  {
   "cell_type": "code",
   "execution_count": null,
   "metadata": {},
   "outputs": [],
   "source": []
  }
 ],
 "metadata": {
  "kernelspec": {
   "display_name": "Python 3",
   "language": "python",
   "name": "python3"
  },
  "language_info": {
   "codemirror_mode": {
    "name": "ipython",
    "version": 3
   },
   "file_extension": ".py",
   "mimetype": "text/x-python",
   "name": "python",
   "nbconvert_exporter": "python",
   "pygments_lexer": "ipython3",
   "version": "3.9.13"
  },
  "orig_nbformat": 4
 },
 "nbformat": 4,
 "nbformat_minor": 2
}
