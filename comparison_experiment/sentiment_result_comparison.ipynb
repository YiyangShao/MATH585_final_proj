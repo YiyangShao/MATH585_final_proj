{
 "cells": [
  {
   "cell_type": "code",
   "execution_count": 1,
   "metadata": {},
   "outputs": [],
   "source": [
    "import pandas as pd\n",
    "import numpy as np"
   ]
  },
  {
   "cell_type": "code",
   "execution_count": 14,
   "metadata": {},
   "outputs": [],
   "source": [
    "df_gpt = pd.read_csv(\"../results/news_100_gpt.csv\", index_col = 0)\n",
    "df_nltk = pd.read_csv(\"../results/news_100_nltk.csv\", index_col = 0)"
   ]
  },
  {
   "cell_type": "code",
   "execution_count": 21,
   "metadata": {},
   "outputs": [],
   "source": [
    "gpt_result = df_gpt[\"sentiment\"]\n",
    "nltk_result = df_nltk[\"sentiment\"]\n",
    "content = df_gpt[\"content\"]"
   ]
  },
  {
   "cell_type": "code",
   "execution_count": 19,
   "metadata": {},
   "outputs": [
    {
     "data": {
      "text/plain": [
       "0.5545454545454546"
      ]
     },
     "execution_count": 19,
     "metadata": {},
     "output_type": "execute_result"
    }
   ],
   "source": [
    "sum(gpt_result == nltk_result) / gpt_result.shape[0]"
   ]
  },
  {
   "cell_type": "code",
   "execution_count": 20,
   "metadata": {},
   "outputs": [
    {
     "name": "stdout",
     "output_type": "stream",
     "text": [
      "For model gpt, positive rate is 0.20, neutral rate is 0.72, negative rate is 0.08\n",
      "For model nltk, positive rate is 0.34, neutral rate is 0.53, negative rate is 0.14\n"
     ]
    }
   ],
   "source": [
    "model_names = [\"gpt\", \"nltk\"]\n",
    "results = [gpt_result, nltk_result]\n",
    "for i in range(2):\n",
    "    name = model_names[i]\n",
    "    result = results[i]\n",
    "    n = result.shape[0]\n",
    "    positive = sum(result == 1)\n",
    "    negative = sum(result == -1)\n",
    "    neutral = sum(result == 0)\n",
    "    print(f\"For model {name}, positive rate is {positive/n:.2f}, neutral rate is {neutral/n:.2f}, negative rate is {negative/n:.2f}\")"
   ]
  },
  {
   "cell_type": "code",
   "execution_count": 25,
   "metadata": {},
   "outputs": [
    {
     "name": "stdout",
     "output_type": "stream",
     "text": [
      "The ability to tap Star Treck fans as subscribers could help ViacomCBS as it battles a galaxy of rivals in the streaming wars.\n",
      "GPT: 1, NLTK: -1\n",
      "\n",
      "Rather, what’s driving the benchmark ETF are high-flying and fundamentally sound tech stocks, which isn’t a bad deal.\n",
      "GPT: 1, NLTK: -1\n",
      "\n",
      "Apple continued rising as the outbreak in China threatened sales, and Nike jumped after two analysts talked up the stock.\n",
      "GPT: 1, NLTK: -1\n",
      "\n",
      "SHOP's high valuation, low profits, and potential competition could derail Shopify stock in the medium term. There are better tech names.\n",
      "GPT: -1, NLTK: 1\n",
      "\n"
     ]
    }
   ],
   "source": [
    "for i in range(content.shape[0]):\n",
    "    if gpt_result[i] != 0 and gpt_result[i] == -nltk_result[i]:\n",
    "        print(content[i][:-1])\n",
    "        print(f\"GPT: {gpt_result[i]}, NLTK: {nltk_result[i]}\\n\")"
   ]
  },
  {
   "cell_type": "code",
   "execution_count": null,
   "metadata": {},
   "outputs": [],
   "source": []
  }
 ],
 "metadata": {
  "kernelspec": {
   "display_name": "base",
   "language": "python",
   "name": "python3"
  },
  "language_info": {
   "codemirror_mode": {
    "name": "ipython",
    "version": 3
   },
   "file_extension": ".py",
   "mimetype": "text/x-python",
   "name": "python",
   "nbconvert_exporter": "python",
   "pygments_lexer": "ipython3",
   "version": "3.9.13"
  }
 },
 "nbformat": 4,
 "nbformat_minor": 2
}
