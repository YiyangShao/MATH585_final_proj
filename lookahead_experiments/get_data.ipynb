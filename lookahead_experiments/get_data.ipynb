{
 "cells": [
  {
   "cell_type": "code",
   "execution_count": 47,
   "metadata": {},
   "outputs": [],
   "source": [
    "import pandas as pd\n",
    "import numpy as np\n",
    "import sys\n",
    "sys.path.append('../')\n",
    "import pandas as pd\n",
    "from src.gpt_prompt import get_sentiment_general, get_sentiment_general_parallel, get_risk_score"
   ]
  },
  {
   "cell_type": "code",
   "execution_count": 48,
   "metadata": {},
   "outputs": [],
   "source": [
    "# f = open(\"../data/news_apple_2022.txt\", \"r\")\n",
    "# ret = f.readlines()\n",
    "# len(ret)\n",
    "# ret2 = []\n",
    "# date = []\n",
    "# for i in ret:\n",
    "#     if i[:4] == \"2022\":\n",
    "#         date.append(i[:20])\n",
    "#         ret2.append(i[20:])\n",
    "# df = pd.DataFrame({'date': date,'news': ret2})\n",
    "# df.to_csv(\"../data/news_apple_2022.csv\")"
   ]
  },
  {
   "cell_type": "code",
   "execution_count": 49,
   "metadata": {},
   "outputs": [
    {
     "data": {
      "text/html": [
       "<div>\n",
       "<style scoped>\n",
       "    .dataframe tbody tr th:only-of-type {\n",
       "        vertical-align: middle;\n",
       "    }\n",
       "\n",
       "    .dataframe tbody tr th {\n",
       "        vertical-align: top;\n",
       "    }\n",
       "\n",
       "    .dataframe thead th {\n",
       "        text-align: right;\n",
       "    }\n",
       "</style>\n",
       "<table border=\"1\" class=\"dataframe\">\n",
       "  <thead>\n",
       "    <tr style=\"text-align: right;\">\n",
       "      <th></th>\n",
       "      <th>date</th>\n",
       "      <th>news</th>\n",
       "    </tr>\n",
       "  </thead>\n",
       "  <tbody>\n",
       "    <tr>\n",
       "      <th>0</th>\n",
       "      <td>2022-01-01 00:32:44</td>\n",
       "      <td>I actually lost weight this holiday season — t...</td>\n",
       "    </tr>\n",
       "    <tr>\n",
       "      <th>1</th>\n",
       "      <td>2022-01-01 00:52:34</td>\n",
       "      <td>January Dogs Of The Dow Need A PullbackThirty-...</td>\n",
       "    </tr>\n",
       "    <tr>\n",
       "      <th>2</th>\n",
       "      <td>2022-01-01 01:04:02</td>\n",
       "      <td>I switched from Android to iPhone — here's wha...</td>\n",
       "    </tr>\n",
       "    <tr>\n",
       "      <th>3</th>\n",
       "      <td>2022-01-01 01:36:26</td>\n",
       "      <td>365 Inspirational Quotes for 2022Inspiring, po...</td>\n",
       "    </tr>\n",
       "    <tr>\n",
       "      <th>4</th>\n",
       "      <td>2022-01-01 02:06:21</td>\n",
       "      <td>Is Fitbit Premium worth it? Here's the pros an...</td>\n",
       "    </tr>\n",
       "    <tr>\n",
       "      <th>...</th>\n",
       "      <td>...</td>\n",
       "      <td>...</td>\n",
       "    </tr>\n",
       "    <tr>\n",
       "      <th>43828</th>\n",
       "      <td>2022-12-31 19:01:02</td>\n",
       "      <td>The Fall Of Tesla And The Rise of Exxon Amid T...</td>\n",
       "    </tr>\n",
       "    <tr>\n",
       "      <th>43829</th>\n",
       "      <td>2022-12-31 21:34:25</td>\n",
       "      <td>Elon Musk becomes first person ever to lose $U...</td>\n",
       "    </tr>\n",
       "    <tr>\n",
       "      <th>43830</th>\n",
       "      <td>2022-12-31 21:36:15</td>\n",
       "      <td>Elon Musk becomes first person ever to lose $U...</td>\n",
       "    </tr>\n",
       "    <tr>\n",
       "      <th>43831</th>\n",
       "      <td>2022-12-31 23:02:20</td>\n",
       "      <td>I love my Kindle but I’m turning it off this s...</td>\n",
       "    </tr>\n",
       "    <tr>\n",
       "      <th>43832</th>\n",
       "      <td>2022-12-31 23:47:00</td>\n",
       "      <td>Playtika Holding Corp. (NASDAQ:PLTK) Short Int...</td>\n",
       "    </tr>\n",
       "  </tbody>\n",
       "</table>\n",
       "<p>43833 rows × 2 columns</p>\n",
       "</div>"
      ],
      "text/plain": [
       "                       date                                               news\n",
       "0      2022-01-01 00:32:44   I actually lost weight this holiday season — t...\n",
       "1      2022-01-01 00:52:34   January Dogs Of The Dow Need A PullbackThirty-...\n",
       "2      2022-01-01 01:04:02   I switched from Android to iPhone — here's wha...\n",
       "3      2022-01-01 01:36:26   365 Inspirational Quotes for 2022Inspiring, po...\n",
       "4      2022-01-01 02:06:21   Is Fitbit Premium worth it? Here's the pros an...\n",
       "...                     ...                                                ...\n",
       "43828  2022-12-31 19:01:02   The Fall Of Tesla And The Rise of Exxon Amid T...\n",
       "43829  2022-12-31 21:34:25   Elon Musk becomes first person ever to lose $U...\n",
       "43830  2022-12-31 21:36:15   Elon Musk becomes first person ever to lose $U...\n",
       "43831  2022-12-31 23:02:20   I love my Kindle but I’m turning it off this s...\n",
       "43832  2022-12-31 23:47:00   Playtika Holding Corp. (NASDAQ:PLTK) Short Int...\n",
       "\n",
       "[43833 rows x 2 columns]"
      ]
     },
     "execution_count": 49,
     "metadata": {},
     "output_type": "execute_result"
    }
   ],
   "source": [
    "df = pd.read_csv(\"../data/news_apple_2022.csv\", index_col=0)\n",
    "df"
   ]
  },
  {
   "cell_type": "code",
   "execution_count": 50,
   "metadata": {},
   "outputs": [
    {
     "name": "stdout",
     "output_type": "stream",
     "text": [
      "NEUTRAL\n",
      "NEUTRAL\n"
     ]
    }
   ],
   "source": [
    "news = df[\"news\"][0]\n",
    "print(get_sentiment_general(news,company=\"Apple\",model=\"gpt-3.5-turbo-16k\", output=\"polar\", explanation=False)[0])\n",
    "print(get_sentiment_general(news,company=\"Apple\",model=\"gpt-3.5-turbo-1106\", output=\"polar\", explanation=False)[0])"
   ]
  },
  {
   "cell_type": "code",
   "execution_count": 60,
   "metadata": {},
   "outputs": [
    {
     "name": "stdout",
     "output_type": "stream",
     "text": [
      " average running time: 0.19 second\n",
      "[('NEUTRAL', ''), ('NEUTRAL', ''), ('BULLISH', ''), ('BULLISH', ''), ('BULLISH', ''), ('BULLISH', ''), ('NEUTRAL', ''), ('BULLISH', ''), ('BULLISH', ''), ('NEUTRAL', ''), ('BULLISH', ''), ('NEUTRAL', ''), ('BULLISH', ''), ('NEUTRAL', ''), ('NEUTRAL', ''), ('BULLISH', ''), ('BULLISH', ''), ('BULLISH', ''), ('NEUTRAL', ''), ('NEUTRAL', ''), ('BULLISH', ''), ('BEARISH', ''), ('NEUTRAL', ''), ('NEUTRAL', ''), ('NEUTRAL', ''), ('BULLISH', ''), ('BEARISH', ''), ('NEUTRAL', ''), ('BULLISH', ''), ('BULLISH', ''), ('BEARISH', ''), ('NEUTRAL', ''), ('BULLISH', ''), ('NEUTRAL', ''), ('NEUTRAL', ''), ('BULLISH', ''), ('BULLISH', ''), ('NEUTRAL', ''), ('NEUTRAL', ''), ('NEUTRAL', ''), ('BEARISH', ''), ('BULLISH', ''), ('NEUTRAL', ''), ('BEARISH', ''), ('BULLISH', ''), ('NEUTRAL', ''), ('NEUTRAL', ''), ('NEUTRAL', ''), ('BEARISH', ''), ('BULLISH', ''), ('NEUTRAL', ''), ('BULLISH', ''), ('NEUTRAL', ''), ('BEARISH', ''), ('NEUTRAL', ''), ('BULLISH', ''), ('BULLISH', ''), ('NEUTRAL', ''), ('NEUTRAL', ''), ('BULLISH', ''), ('NEUTRAL', ''), ('BEARISH', ''), ('BULLISH', ''), ('BEARISH', ''), ('BEARISH', ''), ('NEUTRAL', ''), ('NEUTRAL', ''), ('BULLISH', ''), ('NEUTRAL', ''), ('BULLISH', ''), ('BULLISH', ''), ('BULLISH', ''), ('BULLISH', ''), ('BULLISH', ''), ('BULLISH', ''), ('BULLISH', ''), ('BULLISH', ''), ('NEUTRAL', ''), ('BULLISH', ''), ('NEUTRAL', ''), ('BULLISH', ''), ('NEUTRAL', ''), ('NEUTRAL', ''), ('BULLISH', ''), ('BULLISH', ''), ('NEUTRAL', ''), ('BULLISH', ''), ('NEUTRAL', ''), ('NEUTRAL', ''), ('NEUTRAL', ''), ('NEUTRAL', ''), ('NEUTRAL', ''), ('NEUTRAL', ''), ('BULLISH', ''), ('BEARISH', ''), ('BULLISH', ''), ('NEUTRAL', ''), ('NEUTRAL', ''), ('NEUTRAL', ''), ('BEARISH', ''), ('NEUTRAL', ''), ('NEUTRAL', ''), ('BULLISH', ''), ('BULLISH', ''), ('NEUTRAL', ''), ('BULLISH', ''), ('BULLISH', ''), ('BULLISH', ''), ('BULLISH', ''), ('BULLISH', '')]\n",
      " average running time: 0.10 second\n",
      "[('NEUTRAL', ''), ('NEUTRAL', ''), ('BULLISH', ''), ('BULLISH', ''), ('BULLISH', ''), ('BULLISH', ''), ('NEUTRAL', ''), ('BULLISH', ''), ('BULLISH', ''), ('NEUTRAL', ''), ('BULLISH', ''), ('NEUTRAL', ''), ('BULLISH', ''), ('BULLISH', ''), ('NEUTRAL', ''), ('BULLISH', ''), ('BULLISH', ''), ('BULLISH', ''), ('BULLISH', ''), ('BULLISH', ''), ('BULLISH', ''), ('BEARISH', ''), ('BULLISH', ''), ('BEARISH', ''), ('BULLISH', ''), ('BULLISH', ''), ('BEARISH', ''), ('NEUTRAL', ''), ('BULLISH', ''), ('BULLISH', ''), ('BEARISH', ''), ('NEUTRAL', ''), ('BULLISH', ''), ('NEUTRAL', ''), ('BULLISH', ''), ('BULLISH', ''), ('BULLISH', ''), ('NEUTRAL', ''), ('NEUTRAL', ''), ('NEUTRAL', ''), ('BEARISH', ''), ('BULLISH', ''), ('NEUTRAL', ''), ('BEARISH', ''), ('BULLISH', ''), ('BULLISH', ''), ('BULLISH', ''), ('BULLISH', ''), ('BEARISH', ''), ('BULLISH', ''), ('NEUTRAL', ''), ('BULLISH', ''), ('NEUTRAL', ''), ('BEARISH', ''), ('BULLISH', ''), ('BULLISH', ''), ('BULLISH', ''), ('NEUTRAL', ''), ('BULLISH', ''), ('BULLISH', ''), ('NEUTRAL', ''), ('BEARISH', ''), ('BULLISH', ''), ('BEARISH', ''), ('BEARISH', ''), ('BEARISH', ''), ('NEUTRAL', ''), ('BULLISH', ''), ('BULLISH', ''), ('BULLISH', ''), ('BULLISH', ''), ('BULLISH', ''), ('BULLISH', ''), ('BULLISH', ''), ('BULLISH', ''), ('BULLISH', ''), ('BULLISH', ''), ('BULLISH', ''), ('BULLISH', ''), ('BULLISH', ''), ('BULLISH', ''), ('NEUTRAL', ''), ('NEUTRAL', ''), ('BULLISH', ''), ('BULLISH', ''), ('BEARISH', ''), ('BULLISH', ''), ('NEUTRAL', ''), ('NEUTRAL', ''), ('BULLISH', ''), ('BEARISH', ''), ('NEUTRAL', ''), ('NEUTRAL', ''), ('BULLISH', ''), ('BEARISH', ''), ('BULLISH', ''), ('NEUTRAL', ''), ('NEUTRAL', ''), ('BEARISH', ''), ('BEARISH', ''), ('BULLISH', ''), ('BEARISH', ''), ('BULLISH', ''), ('BULLISH', ''), ('NEUTRAL', ''), ('BULLISH', ''), ('BULLISH', ''), ('BULLISH', ''), ('BULLISH', ''), ('BULLISH', '')]\n"
     ]
    }
   ],
   "source": [
    "news = df[\"news\"][::400]\n",
    "result1 = get_sentiment_general_parallel(news,company=\"Apple\",model=\"gpt-3.5-turbo-16k\", output=\"polar\", explanation=False)\n",
    "print(result1)\n",
    "result2 = get_sentiment_general_parallel(news,company=\"Apple\",model=\"gpt-3.5-turbo-1106\", output=\"polar\", explanation=False)\n",
    "print(result2)\n"
   ]
  },
  {
   "cell_type": "code",
   "execution_count": 61,
   "metadata": {},
   "outputs": [
    {
     "name": "stdout",
     "output_type": "stream",
     "text": [
      "0.8\n"
     ]
    }
   ],
   "source": [
    "n = len(result1)\n",
    "c = 0\n",
    "for i in range(n):\n",
    "    if result1[i] == result2[i]:\n",
    "        c += 1\n",
    "print(c / n)\n",
    "        "
   ]
  },
  {
   "cell_type": "code",
   "execution_count": null,
   "metadata": {},
   "outputs": [],
   "source": []
  },
  {
   "cell_type": "code",
   "execution_count": null,
   "metadata": {},
   "outputs": [],
   "source": []
  },
  {
   "cell_type": "code",
   "execution_count": null,
   "metadata": {},
   "outputs": [],
   "source": []
  }
 ],
 "metadata": {
  "kernelspec": {
   "display_name": "base",
   "language": "python",
   "name": "python3"
  },
  "language_info": {
   "codemirror_mode": {
    "name": "ipython",
    "version": 3
   },
   "file_extension": ".py",
   "mimetype": "text/x-python",
   "name": "python",
   "nbconvert_exporter": "python",
   "pygments_lexer": "ipython3",
   "version": "3.9.13"
  }
 },
 "nbformat": 4,
 "nbformat_minor": 2
}
