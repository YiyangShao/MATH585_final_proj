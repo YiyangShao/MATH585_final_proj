{
 "cells": [
  {
   "cell_type": "code",
   "execution_count": 2,
   "metadata": {},
   "outputs": [],
   "source": [
    "import pandas as pd\n",
    "import numpy as np\n",
    "import sys\n",
    "sys.path.append('../')\n",
    "import pandas as pd\n",
    "from src.gpt_prompt import get_sentiment_general, get_sentiment_general_parallel, get_risk_score\n",
    "import datetime"
   ]
  },
  {
   "cell_type": "code",
   "execution_count": 3,
   "metadata": {},
   "outputs": [],
   "source": [
    "df_news = pd.read_csv(\"../data/news_apple_2022.csv\", index_col=0)\n",
    "df_news[\"date\"] = pd.to_datetime(df_news['date'])"
   ]
  },
  {
   "cell_type": "code",
   "execution_count": 6,
   "metadata": {},
   "outputs": [],
   "source": [
    "n = df_news.shape[0]"
   ]
  },
  {
   "cell_type": "code",
   "execution_count": 8,
   "metadata": {},
   "outputs": [],
   "source": [
    "scores = []\n",
    "batch = []\n",
    "index = []\n",
    "for i in range(n):\n",
    "    if i % 100 == 0:\n",
    "        index.append(i)\n",
    "        batch.append(df_news[\"news\"][i])\n",
    "    if len(batch) >= 100:\n",
    "        result1 = get_sentiment_general_parallel(batch,company=\"Apple\",model=\"gpt-3.5-turbo-16k\", output=\"polar\", explanation=False)\n",
    "        print(f\"finish {i}\")\n",
    "        scores += result1\n",
    "        batch = []        \n",
    "    \n",
    "scores\n",
    "        \n",
    "    \n",
    "    \n",
    "    "
   ]
  },
  {
   "cell_type": "code",
   "execution_count": null,
   "metadata": {},
   "outputs": [],
   "source": [
    "def find_whole_minute_time_after_5_minutes(time):\n",
    "    new_time = given_time + timedelta(minutes=5)\n",
    "\n",
    "    # Adjust to the nearest whole minute\n",
    "    if new_time.second > 0:\n",
    "        new_time += timedelta(minutes=1)\n",
    "        new_time = new_time.replace(second=0, microsecond=0)"
   ]
  },
  {
   "cell_type": "code",
   "execution_count": null,
   "metadata": {},
   "outputs": [],
   "source": []
  },
  {
   "cell_type": "code",
   "execution_count": 92,
   "metadata": {},
   "outputs": [
    {
     "name": "stdout",
     "output_type": "stream",
     "text": [
      "2022-01-01 00:32:44\n",
      "2022-01-01 00:37:44\n"
     ]
    }
   ],
   "source": [
    "cur = datetime.datetime.strptime(df_news[\"date\"][0], '%Y-%m-%d %H:%M:%S ')\n",
    "five_minutes_later = cur + datetime.timedelta(minutes=5)\n",
    "print(cur)\n",
    "print(five_minutes_later)"
   ]
  },
  {
   "cell_type": "code",
   "execution_count": 50,
   "metadata": {},
   "outputs": [
    {
     "name": "stdout",
     "output_type": "stream",
     "text": [
      "NEUTRAL\n",
      "NEUTRAL\n"
     ]
    }
   ],
   "source": [
    "news = df[\"news\"][0]\n",
    "print(get_sentiment_general(news,company=\"Apple\",model=\"gpt-3.5-turbo-16k\", output=\"polar\", explanation=False)[0])\n",
    "print(get_sentiment_general(news,company=\"Apple\",model=\"gpt-3.5-turbo-1106\", output=\"polar\", explanation=False)[0])"
   ]
  },
  {
   "cell_type": "code",
   "execution_count": 60,
   "metadata": {},
   "outputs": [
    {
     "name": "stdout",
     "output_type": "stream",
     "text": [
      " average running time: 0.19 second\n",
      "[('NEUTRAL', ''), ('NEUTRAL', ''), ('BULLISH', ''), ('BULLISH', ''), ('BULLISH', ''), ('BULLISH', ''), ('NEUTRAL', ''), ('BULLISH', ''), ('BULLISH', ''), ('NEUTRAL', ''), ('BULLISH', ''), ('NEUTRAL', ''), ('BULLISH', ''), ('NEUTRAL', ''), ('NEUTRAL', ''), ('BULLISH', ''), ('BULLISH', ''), ('BULLISH', ''), ('NEUTRAL', ''), ('NEUTRAL', ''), ('BULLISH', ''), ('BEARISH', ''), ('NEUTRAL', ''), ('NEUTRAL', ''), ('NEUTRAL', ''), ('BULLISH', ''), ('BEARISH', ''), ('NEUTRAL', ''), ('BULLISH', ''), ('BULLISH', ''), ('BEARISH', ''), ('NEUTRAL', ''), ('BULLISH', ''), ('NEUTRAL', ''), ('NEUTRAL', ''), ('BULLISH', ''), ('BULLISH', ''), ('NEUTRAL', ''), ('NEUTRAL', ''), ('NEUTRAL', ''), ('BEARISH', ''), ('BULLISH', ''), ('NEUTRAL', ''), ('BEARISH', ''), ('BULLISH', ''), ('NEUTRAL', ''), ('NEUTRAL', ''), ('NEUTRAL', ''), ('BEARISH', ''), ('BULLISH', ''), ('NEUTRAL', ''), ('BULLISH', ''), ('NEUTRAL', ''), ('BEARISH', ''), ('NEUTRAL', ''), ('BULLISH', ''), ('BULLISH', ''), ('NEUTRAL', ''), ('NEUTRAL', ''), ('BULLISH', ''), ('NEUTRAL', ''), ('BEARISH', ''), ('BULLISH', ''), ('BEARISH', ''), ('BEARISH', ''), ('NEUTRAL', ''), ('NEUTRAL', ''), ('BULLISH', ''), ('NEUTRAL', ''), ('BULLISH', ''), ('BULLISH', ''), ('BULLISH', ''), ('BULLISH', ''), ('BULLISH', ''), ('BULLISH', ''), ('BULLISH', ''), ('BULLISH', ''), ('NEUTRAL', ''), ('BULLISH', ''), ('NEUTRAL', ''), ('BULLISH', ''), ('NEUTRAL', ''), ('NEUTRAL', ''), ('BULLISH', ''), ('BULLISH', ''), ('NEUTRAL', ''), ('BULLISH', ''), ('NEUTRAL', ''), ('NEUTRAL', ''), ('NEUTRAL', ''), ('NEUTRAL', ''), ('NEUTRAL', ''), ('NEUTRAL', ''), ('BULLISH', ''), ('BEARISH', ''), ('BULLISH', ''), ('NEUTRAL', ''), ('NEUTRAL', ''), ('NEUTRAL', ''), ('BEARISH', ''), ('NEUTRAL', ''), ('NEUTRAL', ''), ('BULLISH', ''), ('BULLISH', ''), ('NEUTRAL', ''), ('BULLISH', ''), ('BULLISH', ''), ('BULLISH', ''), ('BULLISH', ''), ('BULLISH', '')]\n",
      " average running time: 0.10 second\n",
      "[('NEUTRAL', ''), ('NEUTRAL', ''), ('BULLISH', ''), ('BULLISH', ''), ('BULLISH', ''), ('BULLISH', ''), ('NEUTRAL', ''), ('BULLISH', ''), ('BULLISH', ''), ('NEUTRAL', ''), ('BULLISH', ''), ('NEUTRAL', ''), ('BULLISH', ''), ('BULLISH', ''), ('NEUTRAL', ''), ('BULLISH', ''), ('BULLISH', ''), ('BULLISH', ''), ('BULLISH', ''), ('BULLISH', ''), ('BULLISH', ''), ('BEARISH', ''), ('BULLISH', ''), ('BEARISH', ''), ('BULLISH', ''), ('BULLISH', ''), ('BEARISH', ''), ('NEUTRAL', ''), ('BULLISH', ''), ('BULLISH', ''), ('BEARISH', ''), ('NEUTRAL', ''), ('BULLISH', ''), ('NEUTRAL', ''), ('BULLISH', ''), ('BULLISH', ''), ('BULLISH', ''), ('NEUTRAL', ''), ('NEUTRAL', ''), ('NEUTRAL', ''), ('BEARISH', ''), ('BULLISH', ''), ('NEUTRAL', ''), ('BEARISH', ''), ('BULLISH', ''), ('BULLISH', ''), ('BULLISH', ''), ('BULLISH', ''), ('BEARISH', ''), ('BULLISH', ''), ('NEUTRAL', ''), ('BULLISH', ''), ('NEUTRAL', ''), ('BEARISH', ''), ('BULLISH', ''), ('BULLISH', ''), ('BULLISH', ''), ('NEUTRAL', ''), ('BULLISH', ''), ('BULLISH', ''), ('NEUTRAL', ''), ('BEARISH', ''), ('BULLISH', ''), ('BEARISH', ''), ('BEARISH', ''), ('BEARISH', ''), ('NEUTRAL', ''), ('BULLISH', ''), ('BULLISH', ''), ('BULLISH', ''), ('BULLISH', ''), ('BULLISH', ''), ('BULLISH', ''), ('BULLISH', ''), ('BULLISH', ''), ('BULLISH', ''), ('BULLISH', ''), ('BULLISH', ''), ('BULLISH', ''), ('BULLISH', ''), ('BULLISH', ''), ('NEUTRAL', ''), ('NEUTRAL', ''), ('BULLISH', ''), ('BULLISH', ''), ('BEARISH', ''), ('BULLISH', ''), ('NEUTRAL', ''), ('NEUTRAL', ''), ('BULLISH', ''), ('BEARISH', ''), ('NEUTRAL', ''), ('NEUTRAL', ''), ('BULLISH', ''), ('BEARISH', ''), ('BULLISH', ''), ('NEUTRAL', ''), ('NEUTRAL', ''), ('BEARISH', ''), ('BEARISH', ''), ('BULLISH', ''), ('BEARISH', ''), ('BULLISH', ''), ('BULLISH', ''), ('NEUTRAL', ''), ('BULLISH', ''), ('BULLISH', ''), ('BULLISH', ''), ('BULLISH', ''), ('BULLISH', '')]\n"
     ]
    }
   ],
   "source": [
    "news = df[\"news\"][::400]\n",
    "result1 = get_sentiment_general_parallel(news,company=\"Apple\",model=\"gpt-3.5-turbo-16k\", output=\"polar\", explanation=False)\n",
    "print(result1)\n",
    "result2 = get_sentiment_general_parallel(news,company=\"Apple\",model=\"gpt-3.5-turbo-1106\", output=\"polar\", explanation=False)\n",
    "print(result2)\n"
   ]
  },
  {
   "cell_type": "code",
   "execution_count": 61,
   "metadata": {},
   "outputs": [
    {
     "name": "stdout",
     "output_type": "stream",
     "text": [
      "0.8\n"
     ]
    }
   ],
   "source": [
    "n = len(result1)\n",
    "c = 0\n",
    "for i in range(n):\n",
    "    if result1[i] == result2[i]:\n",
    "        c += 1\n",
    "print(c / n)\n",
    "        "
   ]
  },
  {
   "cell_type": "code",
   "execution_count": null,
   "metadata": {},
   "outputs": [],
   "source": []
  },
  {
   "cell_type": "code",
   "execution_count": null,
   "metadata": {},
   "outputs": [],
   "source": []
  },
  {
   "cell_type": "code",
   "execution_count": null,
   "metadata": {},
   "outputs": [],
   "source": []
  }
 ],
 "metadata": {
  "kernelspec": {
   "display_name": "base",
   "language": "python",
   "name": "python3"
  },
  "language_info": {
   "codemirror_mode": {
    "name": "ipython",
    "version": 3
   },
   "file_extension": ".py",
   "mimetype": "text/x-python",
   "name": "python",
   "nbconvert_exporter": "python",
   "pygments_lexer": "ipython3",
   "version": "3.9.13"
  }
 },
 "nbformat": 4,
 "nbformat_minor": 2
}
