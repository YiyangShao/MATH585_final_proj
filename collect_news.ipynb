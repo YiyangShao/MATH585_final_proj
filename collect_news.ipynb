{
 "cells": [
  {
   "cell_type": "code",
   "execution_count": 42,
   "metadata": {},
   "outputs": [],
   "source": [
    "import pandas as pd\n",
    "import numpy as np"
   ]
  },
  {
   "cell_type": "code",
   "execution_count": 43,
   "metadata": {},
   "outputs": [],
   "source": [
    "f = open(\"qc_data/return_data.txt\", \"r\")\n",
    "ret = f.read()\n",
    "ret = ret.split(\"\\n\")\n",
    "ret = ret[4::5]\n",
    "rets = []\n",
    "ret_dates = []\n",
    "for line in ret:\n",
    "    parts = line.split()\n",
    "    if len(parts) == 5:\n",
    "        continue\n",
    "    ret_val = parts[2]\n",
    "    date = parts[4]\n",
    "    rets.append(ret_val)\n",
    "    ret_dates.append(date)\n",
    "rets = np.array(rets)\n",
    "ret_dates = np.array(dates)"
   ]
  },
  {
   "cell_type": "code",
   "execution_count": 44,
   "metadata": {},
   "outputs": [],
   "source": [
    "f = open(\"qc_data/score_data.txt\", \"r\")\n",
    "sco = f.read()\n",
    "sco = sco.split(\"\\n\")\n",
    "sco = sco[4::5]\n",
    "scos = []\n",
    "sco_dates = []\n",
    "for line in sco:\n",
    "    parts = line.split()\n",
    "    if len(parts) == 5:\n",
    "        continue\n",
    "    sco_val = parts[3]\n",
    "    date = parts[5]\n",
    "    scos.append(sco_val)\n",
    "    sco_dates.append(date)\n",
    "scos = np.array(scos)\n",
    "sco_dates = np.array(sco_dates)"
   ]
  },
  {
   "cell_type": "code",
   "execution_count": null,
   "metadata": {},
   "outputs": [],
   "source": []
  },
  {
   "cell_type": "code",
   "execution_count": 53,
   "metadata": {},
   "outputs": [],
   "source": [
    "df = pd.DataFrame({'ret': rets[:86],'sco': scos[:86], 'date': ret_dates[:86]})\n",
    "df.to_csv(\"qc_data/ret_sco.csv\")"
   ]
  },
  {
   "cell_type": "code",
   "execution_count": 54,
   "metadata": {},
   "outputs": [
    {
     "data": {
      "text/html": [
       "<div>\n",
       "<style scoped>\n",
       "    .dataframe tbody tr th:only-of-type {\n",
       "        vertical-align: middle;\n",
       "    }\n",
       "\n",
       "    .dataframe tbody tr th {\n",
       "        vertical-align: top;\n",
       "    }\n",
       "\n",
       "    .dataframe thead th {\n",
       "        text-align: right;\n",
       "    }\n",
       "</style>\n",
       "<table border=\"1\" class=\"dataframe\">\n",
       "  <thead>\n",
       "    <tr style=\"text-align: right;\">\n",
       "      <th></th>\n",
       "      <th>ret</th>\n",
       "      <th>sco</th>\n",
       "      <th>date</th>\n",
       "    </tr>\n",
       "  </thead>\n",
       "  <tbody>\n",
       "    <tr>\n",
       "      <th>0</th>\n",
       "      <td>0.0</td>\n",
       "      <td>0.29411764705882354</td>\n",
       "      <td>2021-01-01</td>\n",
       "    </tr>\n",
       "    <tr>\n",
       "      <th>1</th>\n",
       "      <td>0.0</td>\n",
       "      <td>0.54</td>\n",
       "      <td>2021-01-02</td>\n",
       "    </tr>\n",
       "    <tr>\n",
       "      <th>2</th>\n",
       "      <td>0.0</td>\n",
       "      <td>0.6</td>\n",
       "      <td>2021-01-03</td>\n",
       "    </tr>\n",
       "    <tr>\n",
       "      <th>3</th>\n",
       "      <td>-0.009443613756197348</td>\n",
       "      <td>0.46</td>\n",
       "      <td>2021-01-04</td>\n",
       "    </tr>\n",
       "    <tr>\n",
       "      <th>4</th>\n",
       "      <td>0.005441282113568719</td>\n",
       "      <td>0.6</td>\n",
       "      <td>2021-01-05</td>\n",
       "    </tr>\n",
       "    <tr>\n",
       "      <th>...</th>\n",
       "      <td>...</td>\n",
       "      <td>...</td>\n",
       "      <td>...</td>\n",
       "    </tr>\n",
       "    <tr>\n",
       "      <th>81</th>\n",
       "      <td>-0.010001987149764874</td>\n",
       "      <td>0.4</td>\n",
       "      <td>2021-03-23</td>\n",
       "    </tr>\n",
       "    <tr>\n",
       "      <th>82</th>\n",
       "      <td>0.007761273919443202</td>\n",
       "      <td>0.46</td>\n",
       "      <td>2021-03-24</td>\n",
       "    </tr>\n",
       "    <tr>\n",
       "      <th>83</th>\n",
       "      <td>0.012813703359447612</td>\n",
       "      <td>0.74</td>\n",
       "      <td>2021-03-25</td>\n",
       "    </tr>\n",
       "    <tr>\n",
       "      <th>84</th>\n",
       "      <td>0.0166502785971813</td>\n",
       "      <td>0.42</td>\n",
       "      <td>2021-03-26</td>\n",
       "    </tr>\n",
       "    <tr>\n",
       "      <th>85</th>\n",
       "      <td>0.0</td>\n",
       "      <td>0.4418604651162791</td>\n",
       "      <td>2021-03-27</td>\n",
       "    </tr>\n",
       "  </tbody>\n",
       "</table>\n",
       "<p>86 rows × 3 columns</p>\n",
       "</div>"
      ],
      "text/plain": [
       "                      ret                  sco        date\n",
       "0                     0.0  0.29411764705882354  2021-01-01\n",
       "1                     0.0                 0.54  2021-01-02\n",
       "2                     0.0                  0.6  2021-01-03\n",
       "3   -0.009443613756197348                 0.46  2021-01-04\n",
       "4    0.005441282113568719                  0.6  2021-01-05\n",
       "..                    ...                  ...         ...\n",
       "81  -0.010001987149764874                  0.4  2021-03-23\n",
       "82   0.007761273919443202                 0.46  2021-03-24\n",
       "83   0.012813703359447612                 0.74  2021-03-25\n",
       "84     0.0166502785971813                 0.42  2021-03-26\n",
       "85                    0.0   0.4418604651162791  2021-03-27\n",
       "\n",
       "[86 rows x 3 columns]"
      ]
     },
     "execution_count": 54,
     "metadata": {},
     "output_type": "execute_result"
    }
   ],
   "source": [
    "df"
   ]
  },
  {
   "cell_type": "code",
   "execution_count": 56,
   "metadata": {},
   "outputs": [
    {
     "data": {
      "text/plain": [
       "(86,)"
      ]
     },
     "execution_count": 56,
     "metadata": {},
     "output_type": "execute_result"
    }
   ],
   "source": [
    "df[\"sco\"].shape"
   ]
  },
  {
   "cell_type": "code",
   "execution_count": 60,
   "metadata": {},
   "outputs": [
    {
     "data": {
      "text/plain": [
       "LinearRegression()"
      ]
     },
     "execution_count": 60,
     "metadata": {},
     "output_type": "execute_result"
    }
   ],
   "source": [
    "from sklearn.linear_model import LinearRegression\n",
    "X = df[[\"sco\"]]\n",
    "y = df[\"ret\"]\n",
    "lr = LinearRegression()\n",
    "lr.fit(X, y)"
   ]
  },
  {
   "cell_type": "code",
   "execution_count": 65,
   "metadata": {},
   "outputs": [
    {
     "data": {
      "text/plain": [
       "array(['0.0', '0.0', '0.0', '-0.009443613756197348',\n",
       "       '0.005441282113568719', '0.046955829685634734',\n",
       "       '0.03283922462941845', '0.0011039964672113747', '0.0', '0.0',\n",
       "       '0.014924275841787899', '0.015718942412169607',\n",
       "       '0.0009271145343030771', '0.0058425365158533745',\n",
       "       '-0.017921654742509074', '0.0', '0.0', '0.0',\n",
       "       '-0.004327755337564968', '-0.014995653433787254',\n",
       "       '-0.00838420239758778', '-0.007713416895349618', '0.0', '0.0',\n",
       "       '-0.012482248299573943', '-0.004087193460490489',\n",
       "       '-0.028271773825809428', '0.017597372125762584',\n",
       "       '-0.01106755821996771', '0.0', '0.0', '0.007383228413771653',\n",
       "       '0.03078228668415373', '0.011451238679739458',\n",
       "       '0.023013171525825046', '-0.0019529837251355251', '0.0', '0.0',\n",
       "       '0.015654442672851123', '-0.003996003996004029',\n",
       "       '0.0005731480154750326', '-0.0027924960618644842',\n",
       "       '0.014216988583327364', '0.0', '0.0', '0.0',\n",
       "       '0.024070796460176985', '0.0031109574835810417',\n",
       "       '0.0033769813921433506', '0.016690706779311764', '0.0', '0.0',\n",
       "       '0.00939062288879878', '0.008031590924302145',\n",
       "       '0.017595113206294494', '-0.013571708208273577',\n",
       "       '-0.026524672575737582', '0.0', '0.0', '0.022626894068084706',\n",
       "       '-0.0032558139534883735', '0.019332044530364634',\n",
       "       '-0.01536851742855291', '0.002324654622741911', '0.0', '0.0',\n",
       "       '0.013252932211251761', '-0.007062978222483858',\n",
       "       '0.021734835012843266', '-0.005221427190098561',\n",
       "       '0.011858475894245676', '0.0', '0.0', '-0.004995196926032583',\n",
       "       '-0.011971423054643916', '0.01029248908865877',\n",
       "       '0.016506544587014043', '-0.015921344751030794', '0.0', '0.0',\n",
       "       '-0.026878948046925272', '-0.010001987149764874',\n",
       "       '0.007761273919443202', '0.012813703359447612',\n",
       "       '0.0166502785971813', '0.0'], dtype=object)"
      ]
     },
     "execution_count": 65,
     "metadata": {},
     "output_type": "execute_result"
    }
   ],
   "source": [
    "np.array(y)"
   ]
  },
  {
   "cell_type": "code",
   "execution_count": 63,
   "metadata": {},
   "outputs": [
    {
     "data": {
      "text/plain": [
       "array([ 1.27287459e-03,  3.04540736e-03,  3.47793928e-03,  2.46869813e-03,\n",
       "        3.47793928e-03,  3.04540736e-03,  3.62211659e-03,  2.90123005e-03,\n",
       "       -7.03202623e-04,  1.17110237e-03, -1.26493395e-04,  2.18034352e-03,\n",
       "        2.32452083e-03,  1.74781160e-03,  2.32452083e-03,  1.89198890e-03,\n",
       "        1.74781160e-03,  3.18958467e-03,  3.33376197e-03,  3.47793928e-03,\n",
       "        3.33376197e-03,  1.74781160e-03,  3.33376197e-03,  3.18958467e-03,\n",
       "        2.46869813e-03,  3.47793928e-03,  1.89198890e-03,  3.91047120e-03,\n",
       "        3.47793928e-03,  1.45945698e-03,  1.45945698e-03,  3.76629390e-03,\n",
       "        3.62211659e-03,  3.04540736e-03,  2.18034352e-03,  4.63135774e-03,\n",
       "        3.20760683e-03,  8.82747755e-04,  2.75705275e-03,  2.32452083e-03,\n",
       "        3.04540736e-03,  3.76629390e-03,  3.33376197e-03,  3.47793928e-03,\n",
       "        2.03616621e-03,  3.91047120e-03,  2.75705275e-03,  1.61861219e-04,\n",
       "        4.50215833e-04,  3.91047120e-03,  3.33376197e-03,  3.71333080e-03,\n",
       "        5.94393140e-04,  2.03616621e-03,  2.46869813e-03,  2.18034352e-03,\n",
       "        1.17110237e-03,  3.33376197e-03,  4.19882582e-03,  4.19882582e-03,\n",
       "        2.61287544e-03,  1.76839122e-05, -2.70670702e-04,  2.03616621e-03,\n",
       "        1.77402565e-03,  2.75705275e-03,  1.02692506e-03,  2.90123005e-03,\n",
       "        2.18034352e-03,  4.05464851e-03,  1.89198890e-03,  1.60363429e-03,\n",
       "        2.03616621e-03,  3.62211659e-03,  3.04540736e-03,  2.75705275e-03,\n",
       "        2.18034352e-03,  2.03616621e-03,  1.61861219e-04,  2.68036269e-03,\n",
       "        2.90123005e-03,  2.03616621e-03,  2.46869813e-03,  4.48718043e-03,\n",
       "        2.18034352e-03,  2.33793267e-03])"
      ]
     },
     "execution_count": 63,
     "metadata": {},
     "output_type": "execute_result"
    }
   ],
   "source": [
    "lr.predict(X)"
   ]
  },
  {
   "cell_type": "code",
   "execution_count": 61,
   "metadata": {},
   "outputs": [
    {
     "data": {
      "text/plain": [
       "array([0.00720887])"
      ]
     },
     "execution_count": 61,
     "metadata": {},
     "output_type": "execute_result"
    }
   ],
   "source": [
    "lr.coef_"
   ]
  },
  {
   "cell_type": "code",
   "execution_count": 62,
   "metadata": {},
   "outputs": [
    {
     "data": {
      "text/plain": [
       "-0.0008473799301768371"
      ]
     },
     "execution_count": 62,
     "metadata": {},
     "output_type": "execute_result"
    }
   ],
   "source": [
    "lr.intercept_"
   ]
  }
 ],
 "metadata": {
  "kernelspec": {
   "display_name": "base",
   "language": "python",
   "name": "python3"
  },
  "language_info": {
   "codemirror_mode": {
    "name": "ipython",
    "version": 3
   },
   "file_extension": ".py",
   "mimetype": "text/x-python",
   "name": "python",
   "nbconvert_exporter": "python",
   "pygments_lexer": "ipython3",
   "version": "3.9.13"
  }
 },
 "nbformat": 4,
 "nbformat_minor": 2
}
