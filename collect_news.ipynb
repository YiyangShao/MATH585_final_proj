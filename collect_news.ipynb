{
 "cells": [
  {
   "cell_type": "code",
   "execution_count": 4,
   "metadata": {},
   "outputs": [
    {
     "name": "stdout",
     "output_type": "stream",
     "text": [
      "{'warnings': ['limit is higher than your plan allows'], 'meta': {'found': 2553, 'returned': 3, 'limit': 3, 'page': 1}, 'data': [{'uuid': '908b1001-80c8-42c5-b385-029e15b0a8a7', 'title': 'EIC: 15% Annual Returns For Past 3 Years And Still Soaring', 'description': 'Eagle Point Income Co Inc holds a higher percentage of CLO debt and a small percentage of CLO equity. Find out why EIC CEF is a Buy.', 'keywords': '', 'snippet': 'KenCanning/E+ via Getty Images\\n\\nAs an income investor seeking high yield income distributions, preferably monthly, that also offers a strong total return (i.e.,...', 'url': 'https://seekingalpha.com/article/4652127-eic-15-percent-annual-returns-for-past-3-years-and-still-soaring', 'image_url': 'https://static.seekingalpha.com/cdn/s3/uploads/getty_images/117146368/image_117146368.jpg?io=getty-c-w1536', 'language': 'en', 'published_at': '2023-11-15T20:13:51.000000Z', 'source': 'seekingalpha.com', 'relevance_score': None, 'entities': [{'symbol': 'OCCPP', 'name': 'OFS Credit Company, Inc.', 'exchange': None, 'exchange_long': None, 'country': 'us', 'type': 'equity', 'industry': 'Financial Services', 'match_score': 11.994354, 'sentiment_score': 0.8588, 'highlights': [{'highlight': 'I have now built a long and strong position in EIC, making it a core holding in my Income Compounder retirement portfolio, along with ECC, Oxford Lane Capital (OXLC), and several other funds that also hold CLOs, including XAI Octagon Floating Rate & Alternative Income Term Trust (XFLT), <em>OFS</em> <em>Credit</em> <em>Company</em> <em>Inc</em> (OCCI), and most recently Carlyle Credit', 'sentiment': 0.8588, 'highlighted_in': 'main_text'}]}, {'symbol': 'OCCI', 'name': 'OFS Credit Company, Inc.', 'exchange': None, 'exchange_long': None, 'country': 'us', 'type': 'equity', 'industry': 'Financial Services', 'match_score': 11.994221, 'sentiment_score': 0.8588, 'highlights': [{'highlight': 'I have now built a long and strong position in EIC, making it a core holding in my Income Compounder retirement portfolio, along with ECC, Oxford Lane Capital (OXLC), and several other funds that also hold CLOs, including XAI Octagon Floating Rate & Alternative Income Term Trust (XFLT), <em>OFS</em> <em>Credit</em> <em>Company</em> <em>Inc</em> (OCCI), and most recently Carlyle Credit', 'sentiment': 0.8588, 'highlighted_in': 'main_text'}]}, {'symbol': 'OCCIP', 'name': 'OFS Credit Company, Inc.', 'exchange': None, 'exchange_long': None, 'country': 'us', 'type': 'equity', 'industry': 'Financial Services', 'match_score': 11.994221, 'sentiment_score': 0.8588, 'highlights': [{'highlight': 'I have now built a long and strong position in EIC, making it a core holding in my Income Compounder retirement portfolio, along with ECC, Oxford Lane Capital (OXLC), and several other funds that also hold CLOs, including XAI Octagon Floating Rate & Alternative Income Term Trust (XFLT), <em>OFS</em> <em>Credit</em> <em>Company</em> <em>Inc</em> (OCCI), and most recently Carlyle Credit', 'sentiment': 0.8588, 'highlighted_in': 'main_text'}]}, {'symbol': 'BKLN', 'name': 'Invesco Senior Loan ETF', 'exchange': None, 'exchange_long': None, 'country': 'us', 'type': 'etf', 'industry': 'N/A', 'match_score': 15.998497, 'sentiment_score': 0.2732, 'highlights': [{'highlight': 'Seeking Alpha\\n\\nOver the past 3-year period EIC has offered investors a total return of more than 45% (about 15% average annual total returns), far exceeding the return of the S&P 500 (SPY) and well above the returns offered by another commonly used benchmark for Senior Loan funds, <em>Invesco</em> <em>Senior</em> <em>Loan</em> <em>ETF</em> (BKLN).', 'sentiment': 0.2732, 'highlighted_in': 'main_text'}]}, {'symbol': '^BKLN-IV', 'name': 'Invesco Senior Loan ETF', 'exchange': None, 'exchange_long': None, 'country': 'us', 'type': 'index', 'industry': 'N/A', 'match_score': 15.998444, 'sentiment_score': 0.2732, 'highlights': [{'highlight': 'Seeking Alpha\\n\\nOver the past 3-year period EIC has offered investors a total return of more than 45% (about 15% average annual total returns), far exceeding the return of the S&P 500 (SPY) and well above the returns offered by another commonly used benchmark for Senior Loan funds, <em>Invesco</em> <em>Senior</em> <em>Loan</em> <em>ETF</em> (BKLN).', 'sentiment': 0.2732, 'highlighted_in': 'main_text'}]}], 'similar': []}, {'uuid': 'd5eef43b-41d7-4a9b-b3b6-746bc5d3b3b3', 'title': 'How investors are gearing up for the end of Fed rate hikes, according to MFS survey', 'description': 'With the end of Fed rate hikes in mind, half of investors in bonds say they increased duration, according to MFS survey.', 'keywords': 'article_normal, fedrates, fedcuts, stockmarket, bondmarket, recession, Banking/Credit, Financial Services, Investing/Securities, Economic News, Equity Markets, Debt/Bond Markets, Derivative Securities, Commodity/Financial Market News, Corporate Debt/Bond Markets, Content Types, Factiva Filters, C&E Exclusion Filter, IWE Filter, Routine Market/Financial News, Surveys/Polls, Fedrates, Fedcuts, U.S. 10 Year Treasury Note, BX:TMUBMUSD10Y, U.S. 30 Year Treasury Bond, BX:TMUBMUSD30Y, iShares Core U.S. Aggregate Bond ETF, AGG, iShares 20+ Year Treasury Bond ETF, TLT, NASDAQ Composite Index, COMP, Russell 2000 Index, RUT, S&P 500 Index, SPX, Dow Jones Industrial Average, DJIA, economic news, equity markets, debt, bond markets, derivative securities, commodity, financial market news, corporate debt, content types, factiva filters, c&e exclusion filter, iwe filter, routine market, financial news, surveys, polls, banking, credit, financial services, investing, securities', 'snippet': 'Investors gearing up for the Federal Reserve’s rate-hiking campaign to draw to a close have been migrating into beaten-up bonds and “undervalued” stocks i...', 'url': 'https://www.marketwatch.com/story/how-investors-are-gearing-up-for-the-end-of-fed-rate-hikes-according-to-mfs-survey-ed861b5e', 'image_url': 'https://images.mktw.net/im-314598 im-312738 im-312737', 'language': 'en', 'published_at': '2023-11-15T20:08:00.000000Z', 'source': 'marketwatch.com', 'relevance_score': None, 'entities': [{'symbol': 'TLT', 'name': 'iShares 20+ Year Treasury Bond ETF', 'exchange': None, 'exchange_long': None, 'country': 'us', 'type': 'etf', 'industry': 'N/A', 'match_score': 55.96109, 'sentiment_score': 0, 'highlights': [{'highlight': 'The related $42.7 billion <em>iShares</em> <em>20</em>+ <em>Year</em> <em>Treasury</em> <em>Bond</em> <em>ETF</em> TLT was down about 7.3% from a return perspective, on the year.\\n\\nBack in equities, about 60% of the MFS survey respondents said they expect U.S. small- RUT and mid-cap stocks to outperform large-cap stocks in the next one to three years.', 'sentiment': 0, 'highlighted_in': 'main_text'}]}, {'symbol': 'AGG', 'name': 'iShares Core U.S. Aggregate Bond ETF', 'exchange': None, 'exchange_long': None, 'country': 'us', 'type': 'etf', 'industry': 'N/A', 'match_score': 60.01911, 'sentiment_score': 0, 'highlights': [{'highlight': 'The related $92.5 billion <em>iShares</em> <em>Core</em> <em>U.S</em>. <em>Aggregate</em> <em>Bond</em> <em>ETF</em> AGG was on track for a 0.7% total return in 2023, according to FactSet.', 'sentiment': 0, 'highlighted_in': 'main_text'}]}], 'similar': []}, {'uuid': '44de715d-1ce7-44d5-aabb-bdd387a08ff4', 'title': \"Exxon CEO Says Making Big Oil 'Villains' Slows Path to Net Zero Emissions\", 'description': 'Exxon Mobil Corp. warned that making Big Oil into “villains” and trying to restrict supply of fossil fuels will slow the path to net zero emissions and keep…', 'keywords': '', 'snippet': \"This advertisement has not loaded yet, but your article continues below.\\n\\nExxon CEO Says Making Big Oil 'Villains' Slows Path to Net Zero Emissions Exxon Mobil ...\", 'url': 'https://financialpost.com/pmn/business-pmn/exxon-ceo-says-making-big-oil-villains-slows-path-to-net-zero-emissions', 'image_url': 'https://dcs-static.gprod.postmedia.digital/14.8.5/websites/images/fp/favicon-fp.ico', 'language': 'en', 'published_at': '2023-11-15T20:00:24.000000Z', 'source': 'financialpost.com', 'relevance_score': None, 'entities': [{'symbol': 'DNRRW', 'name': 'Denbury Inc.', 'exchange': None, 'exchange_long': None, 'country': 'us', 'type': 'equity', 'industry': 'N/A', 'match_score': 19.72528, 'sentiment_score': 0.7579, 'highlights': [{'highlight': 'It plans to spend $17 billion over six years on low-carbon initiatives, and it recently acquired <em>Denbury</em> <em>Inc</em>., the largest carbon dioxide pipeline operator in the US, for about $5 billion. But Exxon is also spending big on oil and gas. It agreed to buy US shale driller Pioneer Natural Resources Co. last month in a deal valued at about $62 billion.', 'sentiment': 0.7579, 'highlighted_in': 'main_text'}]}, {'symbol': 'DNRWW', 'name': 'Denbury Inc.', 'exchange': None, 'exchange_long': None, 'country': 'us', 'type': 'equity', 'industry': 'N/A', 'match_score': 19.72528, 'sentiment_score': 0.7579, 'highlights': [{'highlight': 'It plans to spend $17 billion over six years on low-carbon initiatives, and it recently acquired <em>Denbury</em> <em>Inc</em>., the largest carbon dioxide pipeline operator in the US, for about $5 billion. But Exxon is also spending big on oil and gas. It agreed to buy US shale driller Pioneer Natural Resources Co. last month in a deal valued at about $62 billion.', 'sentiment': 0.7579, 'highlighted_in': 'main_text'}]}], 'similar': []}]}\n"
     ]
    }
   ],
   "source": [
    "import requests\n",
    "headers = {\n",
    "    'Content-Type': 'application/json'\n",
    "}\n",
    "\n",
    "api_token = \"eHqqO2dyqiLvvNnhuIFwhP90eoQQr2gpGUWB7G99\"\n",
    "s = f\"https://api.marketaux.com/v1/news/all?countries=us&filter_entities=true&limit=10&published_after=2023-11-14T21:01&api_token={api_token}\"\n",
    "\n",
    "\n",
    "requestResponse = requests.get(s, headers=headers)\n",
    "print(requestResponse.json())"
   ]
  },
  {
   "cell_type": "code",
   "execution_count": null,
   "metadata": {},
   "outputs": [],
   "source": []
  }
 ],
 "metadata": {
  "kernelspec": {
   "display_name": "base",
   "language": "python",
   "name": "python3"
  },
  "language_info": {
   "codemirror_mode": {
    "name": "ipython",
    "version": 3
   },
   "file_extension": ".py",
   "mimetype": "text/x-python",
   "name": "python",
   "nbconvert_exporter": "python",
   "pygments_lexer": "ipython3",
   "version": "3.9.13"
  }
 },
 "nbformat": 4,
 "nbformat_minor": 2
}
