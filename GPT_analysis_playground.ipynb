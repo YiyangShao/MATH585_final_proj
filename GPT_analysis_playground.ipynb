{
 "cells": [
  {
   "cell_type": "markdown",
   "metadata": {},
   "source": [
    "# Advantage of LLM sentiment analysis"
   ]
  },
  {
   "cell_type": "code",
   "execution_count": 7,
   "metadata": {},
   "outputs": [],
   "source": [
    "import pandas as pd\n",
    "from src.gpt_prompt import get_sentiment_general, get_sentiment_general_parallel, get_risk_score, get_sentiment_conservative, get_sentiment_general_multiple, get_sentiment_conservative_parallel"
   ]
  },
  {
   "cell_type": "markdown",
   "metadata": {},
   "source": [
    "## 1 Training-Free"
   ]
  },
  {
   "cell_type": "code",
   "execution_count": 8,
   "metadata": {},
   "outputs": [
    {
     "data": {
      "text/plain": [
       "'BULLISH'"
      ]
     },
     "execution_count": 8,
     "metadata": {},
     "output_type": "execute_result"
    }
   ],
   "source": [
    "\n",
    "df = pd.read_csv(\"data/FiQA.csv\")\n",
    "news = df[\"Sentence\"][0]\n",
    "get_sentiment_general(news,model=\"gpt-3.5-turbo\", output=\"polar\", explanation=False)[0]"
   ]
  },
  {
   "cell_type": "code",
   "execution_count": 9,
   "metadata": {},
   "outputs": [
    {
     "name": "stdout",
     "output_type": "stream",
     "text": [
      " average running time: 3.69 second\n"
     ]
    },
    {
     "data": {
      "text/plain": [
       "('BULLISH', '')"
      ]
     },
     "execution_count": 9,
     "metadata": {},
     "output_type": "execute_result"
    }
   ],
   "source": [
    "news = df[\"Sentence\"][0:2]\n",
    "get_sentiment_general_parallel(news,model=\"gpt-3.5-turbo\", output=\"polar\", explanation=False)[0]"
   ]
  },
  {
   "cell_type": "markdown",
   "metadata": {},
   "source": [
    "## 2 High Accuracy"
   ]
  },
  {
   "cell_type": "code",
   "execution_count": 23,
   "metadata": {},
   "outputs": [
    {
     "name": "stdout",
     "output_type": "stream",
     "text": [
      " average running time: 0.06 second\n"
     ]
    }
   ],
   "source": [
    "testing_X = []\n",
    "interposition = 60\n",
    "for i in df[\"Sentence\"][::interposition]:\n",
    "    testing_X.append(i)\n",
    "pool_outputs = get_sentiment_general_parallel(testing_X,model=\"gpt-3.5-turbo-16k\", output=\"polar\", explanation=False, threads=10)"
   ]
  },
  {
   "cell_type": "code",
   "execution_count": 24,
   "metadata": {},
   "outputs": [],
   "source": [
    "dic_df = {\"positive\":1, \"neutral\":0, \"negative\":-1}\n",
    "testing_Y = []\n",
    "for i in df[\"Sentiment\"][::interposition]:\n",
    "    testing_Y.append(dic_df[i])\n",
    "dic_gpt = {\"BULLISH\" : 1, \"NEUTRAL\" : 0, \"BEARISH\" : -1,}\n",
    "output_gpt = [dic_gpt[output[0]] for output in pool_outputs]"
   ]
  },
  {
   "cell_type": "code",
   "execution_count": 25,
   "metadata": {},
   "outputs": [
    {
     "name": "stdout",
     "output_type": "stream",
     "text": [
      "accuracy: 0.7551020408163265\n",
      "confusion matrix: \n",
      " [[15  0  0]\n",
      " [11 41  4]\n",
      " [ 1  8 18]]\n"
     ]
    }
   ],
   "source": [
    "from sklearn.metrics import confusion_matrix, accuracy_score\n",
    "print(\"accuracy:\", accuracy_score(testing_Y, output_gpt))\n",
    "print(\"confusion matrix: \\n\", confusion_matrix(testing_Y, output_gpt))"
   ]
  },
  {
   "cell_type": "markdown",
   "metadata": {},
   "source": [
    "## 3 Customization"
   ]
  },
  {
   "cell_type": "code",
   "execution_count": null,
   "metadata": {},
   "outputs": [
    {
     "data": {
      "text/plain": [
       "'NEUTRAL'"
      ]
     },
     "execution_count": 14,
     "metadata": {},
     "output_type": "execute_result"
    }
   ],
   "source": [
    "news = \"Huawei launches new Mate 60 smartphone series in China\"\n",
    "get_sentiment_general(news,model=\"gpt-4\", output=\"polar\", explanation=False)[0]"
   ]
  },
  {
   "cell_type": "code",
   "execution_count": null,
   "metadata": {},
   "outputs": [
    {
     "data": {
      "text/plain": [
       "'BEARISH'"
      ]
     },
     "execution_count": 15,
     "metadata": {},
     "output_type": "execute_result"
    }
   ],
   "source": [
    "get_sentiment_general(news,model=\"gpt-4\", company=\"Apple\", output=\"polar\", explanation=False)[0]"
   ]
  },
  {
   "cell_type": "code",
   "execution_count": null,
   "metadata": {},
   "outputs": [
    {
     "data": {
      "text/plain": [
       "'3'"
      ]
     },
     "execution_count": 16,
     "metadata": {},
     "output_type": "execute_result"
    }
   ],
   "source": [
    "get_sentiment_general(news,model=\"gpt-4\", company=\"Apple\", output=\"score\", explanation=False)[0]"
   ]
  },
  {
   "cell_type": "code",
   "execution_count": null,
   "metadata": {},
   "outputs": [
    {
     "data": {
      "text/plain": [
       "'Risk Level: 70'"
      ]
     },
     "execution_count": 17,
     "metadata": {},
     "output_type": "execute_result"
    }
   ],
   "source": [
    "get_risk_score(news, model=\"gpt-4\", company=\"Apple\", explanation=True)[0]"
   ]
  },
  {
   "cell_type": "markdown",
   "metadata": {},
   "source": [
    "## 4 Interpretability"
   ]
  },
  {
   "cell_type": "code",
   "execution_count": null,
   "metadata": {},
   "outputs": [
    {
     "data": {
      "text/plain": [
       "\"This news is potentially negative for Apple as Huawei's new smartphone series could compete with Apple's products in the Chinese market. \""
      ]
     },
     "execution_count": 21,
     "metadata": {},
     "output_type": "execute_result"
    }
   ],
   "source": [
    "get_sentiment_general(news,model=\"gpt-4\", company=\"Apple\", output=\"score\", explanation=True)[1]"
   ]
  },
  {
   "cell_type": "markdown",
   "metadata": {},
   "source": [
    "## 5 More than sentiment analysis"
   ]
  },
  {
   "cell_type": "markdown",
   "metadata": {},
   "source": [
    "https://www.quantconnect.com/terminal/processCache?request=embedded_backtest_34904f3cd60e043654b9fb849f9f2ac3.html"
   ]
  }
 ],
 "metadata": {
  "kernelspec": {
   "display_name": "base",
   "language": "python",
   "name": "python3"
  },
  "language_info": {
   "codemirror_mode": {
    "name": "ipython",
    "version": 3
   },
   "file_extension": ".py",
   "mimetype": "text/x-python",
   "name": "python",
   "nbconvert_exporter": "python",
   "pygments_lexer": "ipython3",
   "version": "3.9.13"
  }
 },
 "nbformat": 4,
 "nbformat_minor": 2
}
