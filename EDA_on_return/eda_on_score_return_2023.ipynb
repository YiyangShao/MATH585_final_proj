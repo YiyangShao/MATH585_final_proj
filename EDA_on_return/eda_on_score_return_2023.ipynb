{
 "cells": [
  {
   "cell_type": "code",
   "execution_count": 45,
   "metadata": {},
   "outputs": [],
   "source": [
    "import pandas as pd\n",
    "import numpy as np\n",
    "import sys\n",
    "sys.path.append('../')\n",
    "import pandas as pd\n",
    "from src.gpt_prompt import get_sentiment_general, get_sentiment_general_parallel, get_risk_score\n",
    "import datetime"
   ]
  },
  {
   "cell_type": "code",
   "execution_count": 46,
   "metadata": {},
   "outputs": [
    {
     "name": "stdout",
     "output_type": "stream",
     "text": [
      "                 date                                               news\n",
      "0 2023-01-01 00:19:34  Title: iPhone 15 release date speculation: Her...\n",
      "1 2023-01-01 01:25:56  Title: Apple (NASDAQ:AAPL) PT Set at $184.00 b...\n",
      "2 2023-01-01 01:32:30  Title: 2023 Dividend Growth Portfolio Review A...\n",
      "3 2023-01-01 02:52:26  Title: Tracking Terry Smith's Fundsmith 13F Po...\n",
      "4 2023-01-01 03:10:16  Title: 5 appliances and smart home gadgets tha...\n",
      "                 date       price\n",
      "0 2023-01-03 09:31:00  129.058631\n",
      "1 2023-01-03 09:32:00  128.929353\n",
      "2 2023-01-03 09:33:00  128.740410\n",
      "3 2023-01-03 09:34:00  129.307241\n",
      "4 2023-01-03 09:35:00  129.108353\n"
     ]
    }
   ],
   "source": [
    "df_news = pd.read_csv(\"../data/apple_2023/news_apple_2023.csv\", index_col=0)\n",
    "df_price = pd.read_csv(\"../data/apple_2023/price_apple_2023.csv\", index_col=0)\n",
    "df_news[\"date\"] = pd.to_datetime(df_news['date'])\n",
    "df_price[\"date\"] = pd.to_datetime(df_price['date'])\n",
    "print(df_news.head())\n",
    "print(df_price.head())"
   ]
  },
  {
   "cell_type": "code",
   "execution_count": 47,
   "metadata": {},
   "outputs": [
    {
     "name": "stdout",
     "output_type": "stream",
     "text": [
      "(2000, 3)\n",
      "(1320, 3)\n",
      "(332, 3)\n",
      "(332, 3)\n",
      "(1480, 3)\n",
      "(240, 3)\n"
     ]
    },
    {
     "data": {
      "text/html": [
       "<div>\n",
       "<style scoped>\n",
       "    .dataframe tbody tr th:only-of-type {\n",
       "        vertical-align: middle;\n",
       "    }\n",
       "\n",
       "    .dataframe tbody tr th {\n",
       "        vertical-align: top;\n",
       "    }\n",
       "\n",
       "    .dataframe thead th {\n",
       "        text-align: right;\n",
       "    }\n",
       "</style>\n",
       "<table border=\"1\" class=\"dataframe\">\n",
       "  <thead>\n",
       "    <tr style=\"text-align: right;\">\n",
       "      <th></th>\n",
       "      <th>date</th>\n",
       "      <th>score</th>\n",
       "    </tr>\n",
       "  </thead>\n",
       "  <tbody>\n",
       "    <tr>\n",
       "      <th>0</th>\n",
       "      <td>2023-01-01 00:19:34</td>\n",
       "      <td>1</td>\n",
       "    </tr>\n",
       "    <tr>\n",
       "      <th>1</th>\n",
       "      <td>2023-01-01 05:54:24</td>\n",
       "      <td>1</td>\n",
       "    </tr>\n",
       "    <tr>\n",
       "      <th>2</th>\n",
       "      <td>2023-01-01 14:20:37</td>\n",
       "      <td>0</td>\n",
       "    </tr>\n",
       "    <tr>\n",
       "      <th>3</th>\n",
       "      <td>2023-01-02 05:08:21</td>\n",
       "      <td>1</td>\n",
       "    </tr>\n",
       "    <tr>\n",
       "      <th>4</th>\n",
       "      <td>2023-01-02 09:50:11</td>\n",
       "      <td>1</td>\n",
       "    </tr>\n",
       "    <tr>\n",
       "      <th>...</th>\n",
       "      <td>...</td>\n",
       "      <td>...</td>\n",
       "    </tr>\n",
       "    <tr>\n",
       "      <th>5699</th>\n",
       "      <td>2023-01-20 19:17:57</td>\n",
       "      <td>1</td>\n",
       "    </tr>\n",
       "    <tr>\n",
       "      <th>5700</th>\n",
       "      <td>2023-01-21 02:07:00</td>\n",
       "      <td>0</td>\n",
       "    </tr>\n",
       "    <tr>\n",
       "      <th>5701</th>\n",
       "      <td>2023-01-21 08:03:37</td>\n",
       "      <td>0</td>\n",
       "    </tr>\n",
       "    <tr>\n",
       "      <th>5702</th>\n",
       "      <td>2023-01-21 11:52:29</td>\n",
       "      <td>0</td>\n",
       "    </tr>\n",
       "    <tr>\n",
       "      <th>5703</th>\n",
       "      <td>2023-01-22 01:18:34</td>\n",
       "      <td>0</td>\n",
       "    </tr>\n",
       "  </tbody>\n",
       "</table>\n",
       "<p>5704 rows × 2 columns</p>\n",
       "</div>"
      ],
      "text/plain": [
       "                    date  score\n",
       "0    2023-01-01 00:19:34      1\n",
       "1    2023-01-01 05:54:24      1\n",
       "2    2023-01-01 14:20:37      0\n",
       "3    2023-01-02 05:08:21      1\n",
       "4    2023-01-02 09:50:11      1\n",
       "...                  ...    ...\n",
       "5699 2023-01-20 19:17:57      1\n",
       "5700 2023-01-21 02:07:00      0\n",
       "5701 2023-01-21 08:03:37      0\n",
       "5702 2023-01-21 11:52:29      0\n",
       "5703 2023-01-22 01:18:34      0\n",
       "\n",
       "[5704 rows x 2 columns]"
      ]
     },
     "execution_count": 47,
     "metadata": {},
     "output_type": "execute_result"
    }
   ],
   "source": [
    "dfs = []\n",
    "for i in range(1, 7):\n",
    "    df_score = pd.read_csv(f\"../data/apple_2023/news_score_apple_2023_{i}.csv\", index_col=0)\n",
    "    print(df_score.shape)\n",
    "    df_score = df_score[[\"date\", \"score\"]]\n",
    "    df_score[\"date\"] = pd.to_datetime(df_score['date'])\n",
    "    dfs.append(df_score)\n",
    "    \n",
    "df_score = pd.concat(dfs)\n",
    "df_score.reset_index(drop = True, inplace = True)\n",
    "df_score.to_csv(\"../data/apple_2023/news_score_apple_2023_all.csv\")\n",
    "df_score\n",
    "\n",
    "\n",
    "# df_score = pd.read_csv(f\"../data/apple_2023/news_score_apple_2023_{1}.csv\", index_col=0)\n",
    "# print(df_score.shape)\n",
    "# df_score = df_score[[\"date\", \"score\"]]\n",
    "# df_score[\"date\"] = pd.to_datetime(df_score['date'])"
   ]
  },
  {
   "cell_type": "code",
   "execution_count": 48,
   "metadata": {},
   "outputs": [
    {
     "data": {
      "text/html": [
       "<div>\n",
       "<style scoped>\n",
       "    .dataframe tbody tr th:only-of-type {\n",
       "        vertical-align: middle;\n",
       "    }\n",
       "\n",
       "    .dataframe tbody tr th {\n",
       "        vertical-align: top;\n",
       "    }\n",
       "\n",
       "    .dataframe thead th {\n",
       "        text-align: right;\n",
       "    }\n",
       "</style>\n",
       "<table border=\"1\" class=\"dataframe\">\n",
       "  <thead>\n",
       "    <tr style=\"text-align: right;\">\n",
       "      <th></th>\n",
       "      <th>date</th>\n",
       "      <th>score</th>\n",
       "    </tr>\n",
       "  </thead>\n",
       "  <tbody>\n",
       "    <tr>\n",
       "      <th>0</th>\n",
       "      <td>2023-01-01 00:19:34</td>\n",
       "      <td>1</td>\n",
       "    </tr>\n",
       "    <tr>\n",
       "      <th>1</th>\n",
       "      <td>2023-01-01 01:25:56</td>\n",
       "      <td>1</td>\n",
       "    </tr>\n",
       "    <tr>\n",
       "      <th>2</th>\n",
       "      <td>2023-01-01 01:32:30</td>\n",
       "      <td>1</td>\n",
       "    </tr>\n",
       "    <tr>\n",
       "      <th>3</th>\n",
       "      <td>2023-01-01 02:52:26</td>\n",
       "      <td>-1</td>\n",
       "    </tr>\n",
       "    <tr>\n",
       "      <th>4</th>\n",
       "      <td>2023-01-01 03:10:16</td>\n",
       "      <td>1</td>\n",
       "    </tr>\n",
       "    <tr>\n",
       "      <th>...</th>\n",
       "      <td>...</td>\n",
       "      <td>...</td>\n",
       "    </tr>\n",
       "    <tr>\n",
       "      <th>5699</th>\n",
       "      <td>2023-11-29 14:47:43</td>\n",
       "      <td>-1</td>\n",
       "    </tr>\n",
       "    <tr>\n",
       "      <th>5700</th>\n",
       "      <td>2023-11-30 10:50:15</td>\n",
       "      <td>0</td>\n",
       "    </tr>\n",
       "    <tr>\n",
       "      <th>5701</th>\n",
       "      <td>2023-11-30 10:59:20</td>\n",
       "      <td>1</td>\n",
       "    </tr>\n",
       "    <tr>\n",
       "      <th>5702</th>\n",
       "      <td>2023-12-01 11:02:32</td>\n",
       "      <td>0</td>\n",
       "    </tr>\n",
       "    <tr>\n",
       "      <th>5703</th>\n",
       "      <td>2023-12-01 11:08:36</td>\n",
       "      <td>1</td>\n",
       "    </tr>\n",
       "  </tbody>\n",
       "</table>\n",
       "<p>5704 rows × 2 columns</p>\n",
       "</div>"
      ],
      "text/plain": [
       "                    date  score\n",
       "0    2023-01-01 00:19:34      1\n",
       "1    2023-01-01 01:25:56      1\n",
       "2    2023-01-01 01:32:30      1\n",
       "3    2023-01-01 02:52:26     -1\n",
       "4    2023-01-01 03:10:16      1\n",
       "...                  ...    ...\n",
       "5699 2023-11-29 14:47:43     -1\n",
       "5700 2023-11-30 10:50:15      0\n",
       "5701 2023-11-30 10:59:20      1\n",
       "5702 2023-12-01 11:02:32      0\n",
       "5703 2023-12-01 11:08:36      1\n",
       "\n",
       "[5704 rows x 2 columns]"
      ]
     },
     "execution_count": 48,
     "metadata": {},
     "output_type": "execute_result"
    }
   ],
   "source": [
    "df_score = df_score.sort_values(\"date\")\n",
    "df_score.reset_index(drop = True, inplace = True)\n",
    "df_score"
   ]
  },
  {
   "cell_type": "code",
   "execution_count": 49,
   "metadata": {},
   "outputs": [
    {
     "data": {
      "text/plain": [
       " 1    3095\n",
       " 0    1575\n",
       "-1    1034\n",
       "Name: score, dtype: int64"
      ]
     },
     "execution_count": 49,
     "metadata": {},
     "output_type": "execute_result"
    }
   ],
   "source": [
    "df_score[\"score\"].value_counts()"
   ]
  },
  {
   "cell_type": "code",
   "execution_count": 50,
   "metadata": {},
   "outputs": [],
   "source": [
    "date_price_dict = df_price.set_index('date')['price'].to_dict()\n",
    "# date_price_dict"
   ]
  },
  {
   "cell_type": "code",
   "execution_count": 51,
   "metadata": {},
   "outputs": [],
   "source": [
    "def find_whole_minute_time_after_n_minutes(time, n):\n",
    "    new_time = time + pd.Timedelta(minutes=n)\n",
    "    if new_time.second > 0:\n",
    "        new_time += pd.Timedelta(minutes=1)\n",
    "        new_time = new_time.replace(second=0, microsecond=0)\n",
    "    return new_time"
   ]
  },
  {
   "cell_type": "code",
   "execution_count": 52,
   "metadata": {},
   "outputs": [
    {
     "data": {
      "text/plain": [
       "(33152, 2)"
      ]
     },
     "execution_count": 52,
     "metadata": {},
     "output_type": "execute_result"
    }
   ],
   "source": [
    "df_news.shape"
   ]
  },
  {
   "cell_type": "code",
   "execution_count": 53,
   "metadata": {},
   "outputs": [],
   "source": [
    "\n",
    "columns = [\"price_now\", \"price_in5\", \"price_in10\", \"price_in30\", \"price_in60\"]\n",
    "deltas = [0, 5, 10, 30, 60]\n",
    "pd_price = np.zeros((df_news.shape[0], 5))\n",
    "\n",
    "for i in range(df_news.shape[0]):\n",
    "    time = df_news[\"date\"][i]\n",
    "    for j in range(5):\n",
    "        delta = deltas[j]\n",
    "        new_time = find_whole_minute_time_after_n_minutes(time, delta)\n",
    "        if new_time in date_price_dict:\n",
    "            pd_price[i, j] = date_price_dict[new_time]"
   ]
  },
  {
   "cell_type": "code",
   "execution_count": 54,
   "metadata": {},
   "outputs": [],
   "source": [
    "pd_price = pd.DataFrame(pd_price, columns=columns)\n",
    "result_df = pd.concat([df_news, pd_price], axis=1)"
   ]
  },
  {
   "cell_type": "code",
   "execution_count": 55,
   "metadata": {},
   "outputs": [
    {
     "data": {
      "text/html": [
       "<div>\n",
       "<style scoped>\n",
       "    .dataframe tbody tr th:only-of-type {\n",
       "        vertical-align: middle;\n",
       "    }\n",
       "\n",
       "    .dataframe tbody tr th {\n",
       "        vertical-align: top;\n",
       "    }\n",
       "\n",
       "    .dataframe thead th {\n",
       "        text-align: right;\n",
       "    }\n",
       "</style>\n",
       "<table border=\"1\" class=\"dataframe\">\n",
       "  <thead>\n",
       "    <tr style=\"text-align: right;\">\n",
       "      <th></th>\n",
       "      <th>date</th>\n",
       "      <th>news</th>\n",
       "      <th>price_now</th>\n",
       "      <th>score</th>\n",
       "      <th>return_in5</th>\n",
       "      <th>return_in10</th>\n",
       "      <th>return_in20</th>\n",
       "      <th>return_in60</th>\n",
       "    </tr>\n",
       "  </thead>\n",
       "  <tbody>\n",
       "    <tr>\n",
       "      <th>110</th>\n",
       "      <td>2023-01-03 09:42:30</td>\n",
       "      <td>Title: Apple’s Magic Keyboard for 12.9-inch M2...</td>\n",
       "      <td>129.75474</td>\n",
       "      <td>1.0</td>\n",
       "      <td>-0.009235</td>\n",
       "      <td>-0.021383</td>\n",
       "      <td>-0.032955</td>\n",
       "      <td>-0.036787</td>\n",
       "    </tr>\n",
       "    <tr>\n",
       "      <th>111</th>\n",
       "      <td>2023-01-03 09:43:27</td>\n",
       "      <td>Title: Thinking about trading options or stock...</td>\n",
       "      <td>129.75474</td>\n",
       "      <td>1.0</td>\n",
       "      <td>-0.014102</td>\n",
       "      <td>-0.019697</td>\n",
       "      <td>-0.034948</td>\n",
       "      <td>-0.037784</td>\n",
       "    </tr>\n",
       "    <tr>\n",
       "      <th>114</th>\n",
       "      <td>2023-01-03 10:01:29</td>\n",
       "      <td>Title: What’s Ahead for Wall Street in 2023?. ...</td>\n",
       "      <td>126.313972</td>\n",
       "      <td>0.0</td>\n",
       "      <td>-0.003464</td>\n",
       "      <td>-0.006456</td>\n",
       "      <td>-0.011809</td>\n",
       "      <td>-0.010313</td>\n",
       "    </tr>\n",
       "    <tr>\n",
       "      <th>115</th>\n",
       "      <td>2023-01-03 10:06:48</td>\n",
       "      <td>Title: Foxconn's Largest iPhone Plant In China...</td>\n",
       "      <td>125.876418</td>\n",
       "      <td>1.0</td>\n",
       "      <td>-0.003002</td>\n",
       "      <td>-0.004424</td>\n",
       "      <td>-0.011771</td>\n",
       "      <td>-0.009480</td>\n",
       "    </tr>\n",
       "    <tr>\n",
       "      <th>120</th>\n",
       "      <td>2023-01-03 10:48:17</td>\n",
       "      <td>Title: Elon Musk Expresses Dissatisfaction Ove...</td>\n",
       "      <td>124.921754</td>\n",
       "      <td>-1.0</td>\n",
       "      <td>-0.001911</td>\n",
       "      <td>-0.000756</td>\n",
       "      <td>-0.003503</td>\n",
       "      <td>-0.006846</td>\n",
       "    </tr>\n",
       "    <tr>\n",
       "      <th>...</th>\n",
       "      <td>...</td>\n",
       "      <td>...</td>\n",
       "      <td>...</td>\n",
       "      <td>...</td>\n",
       "      <td>...</td>\n",
       "      <td>...</td>\n",
       "      <td>...</td>\n",
       "      <td>...</td>\n",
       "    </tr>\n",
       "    <tr>\n",
       "      <th>32931</th>\n",
       "      <td>2023-11-29 14:47:43</td>\n",
       "      <td>Title: What's Going On With Apple Stock?. Desc...</td>\n",
       "      <td>189.215</td>\n",
       "      <td>-1.0</td>\n",
       "      <td>0.000053</td>\n",
       "      <td>0.000555</td>\n",
       "      <td>-0.000502</td>\n",
       "      <td>0.000898</td>\n",
       "    </tr>\n",
       "    <tr>\n",
       "      <th>33030</th>\n",
       "      <td>2023-11-30 10:50:15</td>\n",
       "      <td>Title: Getting Closer: The Bloomberg Close, Eu...</td>\n",
       "      <td>188.52</td>\n",
       "      <td>0.0</td>\n",
       "      <td>-0.000477</td>\n",
       "      <td>0.001804</td>\n",
       "      <td>0.000212</td>\n",
       "      <td>-0.000743</td>\n",
       "    </tr>\n",
       "    <tr>\n",
       "      <th>33031</th>\n",
       "      <td>2023-11-30 10:59:20</td>\n",
       "      <td>Title: New app brings power of video to job ca...</td>\n",
       "      <td>188.76</td>\n",
       "      <td>1.0</td>\n",
       "      <td>-0.000477</td>\n",
       "      <td>-0.001166</td>\n",
       "      <td>-0.001483</td>\n",
       "      <td>-0.002728</td>\n",
       "    </tr>\n",
       "    <tr>\n",
       "      <th>33130</th>\n",
       "      <td>2023-12-01 11:02:32</td>\n",
       "      <td>Title: Get A $200 Pair Of Sennheiser Noise-Can...</td>\n",
       "      <td>190.665</td>\n",
       "      <td>0.0</td>\n",
       "      <td>-0.000498</td>\n",
       "      <td>0.000839</td>\n",
       "      <td>0.000708</td>\n",
       "      <td>0.002150</td>\n",
       "    </tr>\n",
       "    <tr>\n",
       "      <th>33131</th>\n",
       "      <td>2023-12-01 11:08:36</td>\n",
       "      <td>Title: Apple records best-ever smartwatch ship...</td>\n",
       "      <td>190.69</td>\n",
       "      <td>1.0</td>\n",
       "      <td>0.000865</td>\n",
       "      <td>0.000079</td>\n",
       "      <td>0.000262</td>\n",
       "      <td>0.003199</td>\n",
       "    </tr>\n",
       "  </tbody>\n",
       "</table>\n",
       "<p>1563 rows × 8 columns</p>\n",
       "</div>"
      ],
      "text/plain": [
       "                     date                                               news  \\\n",
       "110   2023-01-03 09:42:30  Title: Apple’s Magic Keyboard for 12.9-inch M2...   \n",
       "111   2023-01-03 09:43:27  Title: Thinking about trading options or stock...   \n",
       "114   2023-01-03 10:01:29  Title: What’s Ahead for Wall Street in 2023?. ...   \n",
       "115   2023-01-03 10:06:48  Title: Foxconn's Largest iPhone Plant In China...   \n",
       "120   2023-01-03 10:48:17  Title: Elon Musk Expresses Dissatisfaction Ove...   \n",
       "...                   ...                                                ...   \n",
       "32931 2023-11-29 14:47:43  Title: What's Going On With Apple Stock?. Desc...   \n",
       "33030 2023-11-30 10:50:15  Title: Getting Closer: The Bloomberg Close, Eu...   \n",
       "33031 2023-11-30 10:59:20  Title: New app brings power of video to job ca...   \n",
       "33130 2023-12-01 11:02:32  Title: Get A $200 Pair Of Sennheiser Noise-Can...   \n",
       "33131 2023-12-01 11:08:36  Title: Apple records best-ever smartwatch ship...   \n",
       "\n",
       "        price_now  score  return_in5  return_in10  return_in20  return_in60  \n",
       "110     129.75474    1.0   -0.009235    -0.021383    -0.032955    -0.036787  \n",
       "111     129.75474    1.0   -0.014102    -0.019697    -0.034948    -0.037784  \n",
       "114    126.313972    0.0   -0.003464    -0.006456    -0.011809    -0.010313  \n",
       "115    125.876418    1.0   -0.003002    -0.004424    -0.011771    -0.009480  \n",
       "120    124.921754   -1.0   -0.001911    -0.000756    -0.003503    -0.006846  \n",
       "...           ...    ...         ...          ...          ...          ...  \n",
       "32931     189.215   -1.0    0.000053     0.000555    -0.000502     0.000898  \n",
       "33030      188.52    0.0   -0.000477     0.001804     0.000212    -0.000743  \n",
       "33031      188.76    1.0   -0.000477    -0.001166    -0.001483    -0.002728  \n",
       "33130     190.665    0.0   -0.000498     0.000839     0.000708     0.002150  \n",
       "33131      190.69    1.0    0.000865     0.000079     0.000262     0.003199  \n",
       "\n",
       "[1563 rows x 8 columns]"
      ]
     },
     "execution_count": 55,
     "metadata": {},
     "output_type": "execute_result"
    }
   ],
   "source": [
    "result_df.replace(0, pd.NA, inplace=True)\n",
    "result_df = result_df.merge(df_score, on='date', how='left')\n",
    "result_df[\"score\"] = result_df[\"score\"].astype(float)\n",
    "result_df = result_df.dropna()\n",
    "\n",
    "\n",
    "\n",
    "return_cols = [\"return_in5\", \"return_in10\", \"return_in20\", \"return_in60\"]\n",
    "price_cols = [\"price_in5\", \"price_in10\", \"price_in30\", \"price_in60\"]\n",
    "\n",
    "for i in range(4):\n",
    "    result_df[return_cols[i]] = (result_df[price_cols[i]] - result_df[\"price_now\"]) / result_df[\"price_now\"]\n",
    "    result_df[return_cols[i]] = result_df[return_cols[i]].astype(float)\n",
    "for col in price_cols:\n",
    "    result_df.drop(col, axis=1, inplace=True)\n",
    "result_df"
   ]
  },
  {
   "cell_type": "code",
   "execution_count": 56,
   "metadata": {},
   "outputs": [],
   "source": [
    "result_df = result_df.dropna()"
   ]
  },
  {
   "cell_type": "code",
   "execution_count": 57,
   "metadata": {},
   "outputs": [
    {
     "name": "stderr",
     "output_type": "stream",
     "text": [
      "/var/folders/v0/_fszh3l96cz8c79p9psn63y80000gn/T/ipykernel_37075/3235814888.py:1: FutureWarning: Treating datetime data as categorical rather than numeric in `.describe` is deprecated and will be removed in a future version of pandas. Specify `datetime_is_numeric=True` to silence this warning and adopt the future behavior now.\n",
      "  result_df.describe(include='all')\n"
     ]
    },
    {
     "data": {
      "text/html": [
       "<div>\n",
       "<style scoped>\n",
       "    .dataframe tbody tr th:only-of-type {\n",
       "        vertical-align: middle;\n",
       "    }\n",
       "\n",
       "    .dataframe tbody tr th {\n",
       "        vertical-align: top;\n",
       "    }\n",
       "\n",
       "    .dataframe thead th {\n",
       "        text-align: right;\n",
       "    }\n",
       "</style>\n",
       "<table border=\"1\" class=\"dataframe\">\n",
       "  <thead>\n",
       "    <tr style=\"text-align: right;\">\n",
       "      <th></th>\n",
       "      <th>date</th>\n",
       "      <th>news</th>\n",
       "      <th>price_now</th>\n",
       "      <th>score</th>\n",
       "      <th>return_in5</th>\n",
       "      <th>return_in10</th>\n",
       "      <th>return_in20</th>\n",
       "      <th>return_in60</th>\n",
       "    </tr>\n",
       "  </thead>\n",
       "  <tbody>\n",
       "    <tr>\n",
       "      <th>count</th>\n",
       "      <td>1563</td>\n",
       "      <td>1563</td>\n",
       "      <td>1563.000000</td>\n",
       "      <td>1563.000000</td>\n",
       "      <td>1563.000000</td>\n",
       "      <td>1563.000000</td>\n",
       "      <td>1563.000000</td>\n",
       "      <td>1563.000000</td>\n",
       "    </tr>\n",
       "    <tr>\n",
       "      <th>unique</th>\n",
       "      <td>1550</td>\n",
       "      <td>1542</td>\n",
       "      <td>1341.000000</td>\n",
       "      <td>NaN</td>\n",
       "      <td>NaN</td>\n",
       "      <td>NaN</td>\n",
       "      <td>NaN</td>\n",
       "      <td>NaN</td>\n",
       "    </tr>\n",
       "    <tr>\n",
       "      <th>top</th>\n",
       "      <td>2023-01-18 11:31:36</td>\n",
       "      <td>Title: Check Out What Whales Are Doing With AA...</td>\n",
       "      <td>134.796559</td>\n",
       "      <td>NaN</td>\n",
       "      <td>NaN</td>\n",
       "      <td>NaN</td>\n",
       "      <td>NaN</td>\n",
       "      <td>NaN</td>\n",
       "    </tr>\n",
       "    <tr>\n",
       "      <th>freq</th>\n",
       "      <td>4</td>\n",
       "      <td>4</td>\n",
       "      <td>5.000000</td>\n",
       "      <td>NaN</td>\n",
       "      <td>NaN</td>\n",
       "      <td>NaN</td>\n",
       "      <td>NaN</td>\n",
       "      <td>NaN</td>\n",
       "    </tr>\n",
       "    <tr>\n",
       "      <th>first</th>\n",
       "      <td>2023-01-03 09:42:30</td>\n",
       "      <td>NaN</td>\n",
       "      <td>NaN</td>\n",
       "      <td>NaN</td>\n",
       "      <td>NaN</td>\n",
       "      <td>NaN</td>\n",
       "      <td>NaN</td>\n",
       "      <td>NaN</td>\n",
       "    </tr>\n",
       "    <tr>\n",
       "      <th>last</th>\n",
       "      <td>2023-12-01 11:08:36</td>\n",
       "      <td>NaN</td>\n",
       "      <td>NaN</td>\n",
       "      <td>NaN</td>\n",
       "      <td>NaN</td>\n",
       "      <td>NaN</td>\n",
       "      <td>NaN</td>\n",
       "      <td>NaN</td>\n",
       "    </tr>\n",
       "    <tr>\n",
       "      <th>mean</th>\n",
       "      <td>NaN</td>\n",
       "      <td>NaN</td>\n",
       "      <td>NaN</td>\n",
       "      <td>0.454894</td>\n",
       "      <td>0.000040</td>\n",
       "      <td>0.000081</td>\n",
       "      <td>0.000141</td>\n",
       "      <td>0.000118</td>\n",
       "    </tr>\n",
       "    <tr>\n",
       "      <th>std</th>\n",
       "      <td>NaN</td>\n",
       "      <td>NaN</td>\n",
       "      <td>NaN</td>\n",
       "      <td>0.737495</td>\n",
       "      <td>0.001600</td>\n",
       "      <td>0.002268</td>\n",
       "      <td>0.003687</td>\n",
       "      <td>0.004833</td>\n",
       "    </tr>\n",
       "    <tr>\n",
       "      <th>min</th>\n",
       "      <td>NaN</td>\n",
       "      <td>NaN</td>\n",
       "      <td>NaN</td>\n",
       "      <td>-1.000000</td>\n",
       "      <td>-0.014102</td>\n",
       "      <td>-0.021383</td>\n",
       "      <td>-0.034948</td>\n",
       "      <td>-0.037784</td>\n",
       "    </tr>\n",
       "    <tr>\n",
       "      <th>25%</th>\n",
       "      <td>NaN</td>\n",
       "      <td>NaN</td>\n",
       "      <td>NaN</td>\n",
       "      <td>0.000000</td>\n",
       "      <td>-0.000712</td>\n",
       "      <td>-0.001017</td>\n",
       "      <td>-0.001660</td>\n",
       "      <td>-0.002362</td>\n",
       "    </tr>\n",
       "    <tr>\n",
       "      <th>50%</th>\n",
       "      <td>NaN</td>\n",
       "      <td>NaN</td>\n",
       "      <td>NaN</td>\n",
       "      <td>1.000000</td>\n",
       "      <td>0.000084</td>\n",
       "      <td>0.000108</td>\n",
       "      <td>0.000260</td>\n",
       "      <td>0.000344</td>\n",
       "    </tr>\n",
       "    <tr>\n",
       "      <th>75%</th>\n",
       "      <td>NaN</td>\n",
       "      <td>NaN</td>\n",
       "      <td>NaN</td>\n",
       "      <td>1.000000</td>\n",
       "      <td>0.000793</td>\n",
       "      <td>0.001170</td>\n",
       "      <td>0.001997</td>\n",
       "      <td>0.002770</td>\n",
       "    </tr>\n",
       "    <tr>\n",
       "      <th>max</th>\n",
       "      <td>NaN</td>\n",
       "      <td>NaN</td>\n",
       "      <td>NaN</td>\n",
       "      <td>1.000000</td>\n",
       "      <td>0.007512</td>\n",
       "      <td>0.014313</td>\n",
       "      <td>0.028103</td>\n",
       "      <td>0.036050</td>\n",
       "    </tr>\n",
       "  </tbody>\n",
       "</table>\n",
       "</div>"
      ],
      "text/plain": [
       "                       date  \\\n",
       "count                  1563   \n",
       "unique                 1550   \n",
       "top     2023-01-18 11:31:36   \n",
       "freq                      4   \n",
       "first   2023-01-03 09:42:30   \n",
       "last    2023-12-01 11:08:36   \n",
       "mean                    NaN   \n",
       "std                     NaN   \n",
       "min                     NaN   \n",
       "25%                     NaN   \n",
       "50%                     NaN   \n",
       "75%                     NaN   \n",
       "max                     NaN   \n",
       "\n",
       "                                                     news    price_now  \\\n",
       "count                                                1563  1563.000000   \n",
       "unique                                               1542  1341.000000   \n",
       "top     Title: Check Out What Whales Are Doing With AA...   134.796559   \n",
       "freq                                                    4     5.000000   \n",
       "first                                                 NaN          NaN   \n",
       "last                                                  NaN          NaN   \n",
       "mean                                                  NaN          NaN   \n",
       "std                                                   NaN          NaN   \n",
       "min                                                   NaN          NaN   \n",
       "25%                                                   NaN          NaN   \n",
       "50%                                                   NaN          NaN   \n",
       "75%                                                   NaN          NaN   \n",
       "max                                                   NaN          NaN   \n",
       "\n",
       "              score   return_in5  return_in10  return_in20  return_in60  \n",
       "count   1563.000000  1563.000000  1563.000000  1563.000000  1563.000000  \n",
       "unique          NaN          NaN          NaN          NaN          NaN  \n",
       "top             NaN          NaN          NaN          NaN          NaN  \n",
       "freq            NaN          NaN          NaN          NaN          NaN  \n",
       "first           NaN          NaN          NaN          NaN          NaN  \n",
       "last            NaN          NaN          NaN          NaN          NaN  \n",
       "mean       0.454894     0.000040     0.000081     0.000141     0.000118  \n",
       "std        0.737495     0.001600     0.002268     0.003687     0.004833  \n",
       "min       -1.000000    -0.014102    -0.021383    -0.034948    -0.037784  \n",
       "25%        0.000000    -0.000712    -0.001017    -0.001660    -0.002362  \n",
       "50%        1.000000     0.000084     0.000108     0.000260     0.000344  \n",
       "75%        1.000000     0.000793     0.001170     0.001997     0.002770  \n",
       "max        1.000000     0.007512     0.014313     0.028103     0.036050  "
      ]
     },
     "execution_count": 57,
     "metadata": {},
     "output_type": "execute_result"
    }
   ],
   "source": [
    "result_df.describe(include='all')"
   ]
  },
  {
   "cell_type": "code",
   "execution_count": 58,
   "metadata": {},
   "outputs": [
    {
     "data": {
      "text/plain": [
       "date           datetime64[ns]\n",
       "news                   object\n",
       "price_now              object\n",
       "score                 float64\n",
       "return_in5            float64\n",
       "return_in10           float64\n",
       "return_in20           float64\n",
       "return_in60           float64\n",
       "dtype: object"
      ]
     },
     "execution_count": 58,
     "metadata": {},
     "output_type": "execute_result"
    }
   ],
   "source": [
    "result_df.dtypes"
   ]
  },
  {
   "cell_type": "code",
   "execution_count": 59,
   "metadata": {},
   "outputs": [],
   "source": [
    "correlation_matrix = result_df[[\"score\", 'return_in5', 'return_in10', 'return_in20', 'return_in60']].corr()"
   ]
  },
  {
   "cell_type": "code",
   "execution_count": 60,
   "metadata": {},
   "outputs": [
    {
     "data": {
      "text/html": [
       "<div>\n",
       "<style scoped>\n",
       "    .dataframe tbody tr th:only-of-type {\n",
       "        vertical-align: middle;\n",
       "    }\n",
       "\n",
       "    .dataframe tbody tr th {\n",
       "        vertical-align: top;\n",
       "    }\n",
       "\n",
       "    .dataframe thead th {\n",
       "        text-align: right;\n",
       "    }\n",
       "</style>\n",
       "<table border=\"1\" class=\"dataframe\">\n",
       "  <thead>\n",
       "    <tr style=\"text-align: right;\">\n",
       "      <th></th>\n",
       "      <th>score</th>\n",
       "      <th>return_in5</th>\n",
       "      <th>return_in10</th>\n",
       "      <th>return_in20</th>\n",
       "      <th>return_in60</th>\n",
       "    </tr>\n",
       "  </thead>\n",
       "  <tbody>\n",
       "    <tr>\n",
       "      <th>score</th>\n",
       "      <td>1.000000</td>\n",
       "      <td>-0.012486</td>\n",
       "      <td>-0.025892</td>\n",
       "      <td>-0.042321</td>\n",
       "      <td>-0.053942</td>\n",
       "    </tr>\n",
       "    <tr>\n",
       "      <th>return_in5</th>\n",
       "      <td>-0.012486</td>\n",
       "      <td>1.000000</td>\n",
       "      <td>0.733346</td>\n",
       "      <td>0.466245</td>\n",
       "      <td>0.382489</td>\n",
       "    </tr>\n",
       "    <tr>\n",
       "      <th>return_in10</th>\n",
       "      <td>-0.025892</td>\n",
       "      <td>0.733346</td>\n",
       "      <td>1.000000</td>\n",
       "      <td>0.636471</td>\n",
       "      <td>0.498122</td>\n",
       "    </tr>\n",
       "    <tr>\n",
       "      <th>return_in20</th>\n",
       "      <td>-0.042321</td>\n",
       "      <td>0.466245</td>\n",
       "      <td>0.636471</td>\n",
       "      <td>1.000000</td>\n",
       "      <td>0.764345</td>\n",
       "    </tr>\n",
       "    <tr>\n",
       "      <th>return_in60</th>\n",
       "      <td>-0.053942</td>\n",
       "      <td>0.382489</td>\n",
       "      <td>0.498122</td>\n",
       "      <td>0.764345</td>\n",
       "      <td>1.000000</td>\n",
       "    </tr>\n",
       "  </tbody>\n",
       "</table>\n",
       "</div>"
      ],
      "text/plain": [
       "                score  return_in5  return_in10  return_in20  return_in60\n",
       "score        1.000000   -0.012486    -0.025892    -0.042321    -0.053942\n",
       "return_in5  -0.012486    1.000000     0.733346     0.466245     0.382489\n",
       "return_in10 -0.025892    0.733346     1.000000     0.636471     0.498122\n",
       "return_in20 -0.042321    0.466245     0.636471     1.000000     0.764345\n",
       "return_in60 -0.053942    0.382489     0.498122     0.764345     1.000000"
      ]
     },
     "execution_count": 60,
     "metadata": {},
     "output_type": "execute_result"
    }
   ],
   "source": [
    "correlation_matrix"
   ]
  },
  {
   "cell_type": "code",
   "execution_count": 61,
   "metadata": {},
   "outputs": [
    {
     "data": {
      "image/png": "[encoded data removed]",
      "text/plain": [
       "<Figure size 640x480 with 2 Axes>"
      ]
     },
     "metadata": {},
     "output_type": "display_data"
    }
   ],
   "source": [
    "import seaborn as sns\n",
    "import matplotlib.pyplot as plt\n",
    "\n",
    "sns.heatmap(correlation_matrix, annot=True, cmap='coolwarm')\n",
    "plt.title('Correlation Matrix')\n",
    "plt.show()"
   ]
  },
  {
   "cell_type": "code",
   "execution_count": 62,
   "metadata": {},
   "outputs": [
    {
     "data": {
      "image/png": "[encoded data removed]",
      "text/plain": [
       "<Figure size 640x480 with 1 Axes>"
      ]
     },
     "metadata": {},
     "output_type": "display_data"
    },
    {
     "data": {
      "image/png": "[encoded data removed]",
      "text/plain": [
       "<Figure size 640x480 with 1 Axes>"
      ]
     },
     "metadata": {},
     "output_type": "display_data"
    },
    {
     "data": {
      "image/png": "[encoded data removed]",
      "text/plain": [
       "<Figure size 640x480 with 1 Axes>"
      ]
     },
     "metadata": {},
     "output_type": "display_data"
    },
    {
     "data": {
      "image/png": "[encoded data removed]",
      "text/plain": [
       "<Figure size 640x480 with 1 Axes>"
      ]
     },
     "metadata": {},
     "output_type": "display_data"
    }
   ],
   "source": [
    "for return_col in ['return_in5', 'return_in10', 'return_in20', 'return_in60']:\n",
    "    sns.scatterplot(x='score', y=return_col, data=result_df, alpha=0.1)\n",
    "    plt.title(f'Score vs {return_col}')\n",
    "    plt.show()"
   ]
  },
  {
   "cell_type": "code",
   "execution_count": 63,
   "metadata": {},
   "outputs": [
    {
     "data": {
      "text/plain": [
       "(1563, 4)"
      ]
     },
     "execution_count": 63,
     "metadata": {},
     "output_type": "execute_result"
    }
   ],
   "source": [
    "np.array(result_df[[\"return_in5\", \"return_in10\",\"return_in20\",\"return_in60\"]]).shape"
   ]
  },
  {
   "cell_type": "code",
   "execution_count": 64,
   "metadata": {},
   "outputs": [
    {
     "data": {
      "text/plain": [
       "LinearRegression()"
      ]
     },
     "execution_count": 64,
     "metadata": {},
     "output_type": "execute_result"
    }
   ],
   "source": [
    "from sklearn.linear_model import LinearRegression\n",
    "\n",
    "lr = LinearRegression()\n",
    "X = np.array(result_df[\"score\"]).reshape(-1,1)\n",
    "y = np.array(result_df[[\"return_in5\", \"return_in10\",\"return_in20\",\"return_in60\"]])\n",
    "lr.fit(X, y)"
   ]
  },
  {
   "cell_type": "code",
   "execution_count": 65,
   "metadata": {},
   "outputs": [
    {
     "data": {
      "text/plain": [
       "array([[-2.70812375e-05],\n",
       "       [-7.96250416e-05],\n",
       "       [-2.11567974e-04],\n",
       "       [-3.53533775e-04]])"
      ]
     },
     "execution_count": 65,
     "metadata": {},
     "output_type": "execute_result"
    }
   ],
   "source": [
    "lr.coef_"
   ]
  },
  {
   "cell_type": "code",
   "execution_count": 66,
   "metadata": {},
   "outputs": [
    {
     "name": "stdout",
     "output_type": "stream",
     "text": [
      "When score is -1, the mean return_in5 is 0.7594107336767044\n",
      "When score is 0, the mean return_in5 is 0.5612601940660776\n",
      "When score is 1, the mean return_in5 is 0.2428903960587988\n",
      "When score is -1, the mean return_in10 is 1.2829560628504757\n",
      "When score is 0, the mean return_in10 is 1.9752955610094225\n",
      "When score is 1, the mean return_in10 is 0.20475790514233425\n",
      "When score is -1, the mean return_in20 is 2.6768923337289654\n",
      "When score is 0, the mean return_in20 is 4.514692885849113\n",
      "When score is 1, the mean return_in20 is -0.18855336806783546\n",
      "When score is -1, the mean return_in60 is 4.665448232516112\n",
      "When score is 0, the mean return_in60 is 4.755786408410163\n",
      "When score is 1, the mean return_in60 is -1.1525687531579685\n"
     ]
    }
   ],
   "source": [
    "return_names = [\"return_in5\", \"return_in10\",\"return_in20\",\"return_in60\"]\n",
    "for name in return_names:\n",
    "    for j in [-1, 0, 1]:\n",
    "        print(f\"When score is {j}, the mean {name} is {result_df[result_df['score'] == j][name].mean()*10000}\")\n",
    "    "
   ]
  }
 ],
 "metadata": {
  "kernelspec": {
   "display_name": "base",
   "language": "python",
   "name": "python3"
  },
  "language_info": {
   "codemirror_mode": {
    "name": "ipython",
    "version": 3
   },
   "file_extension": ".py",
   "mimetype": "text/x-python",
   "name": "python",
   "nbconvert_exporter": "python",
   "pygments_lexer": "ipython3",
   "version": "3.9.13"
  }
 },
 "nbformat": 4,
 "nbformat_minor": 2
}
