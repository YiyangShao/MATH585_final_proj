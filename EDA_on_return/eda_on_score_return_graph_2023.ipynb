{
 "cells": [
  {
   "cell_type": "code",
   "execution_count": null,
   "metadata": {},
   "outputs": [],
   "source": [
    "import pandas as pd\n",
    "import numpy as np\n",
    "import sys\n",
    "sys.path.append('../')\n",
    "import pandas as pd\n",
    "from src.gpt_prompt import get_sentiment_general, get_sentiment_general_parallel, get_risk_score\n",
    "import datetime"
   ]
  },
  {
   "cell_type": "code",
   "execution_count": null,
   "metadata": {},
   "outputs": [],
   "source": [
    "df_news = pd.read_csv(\"../data/apple_2023/news_apple_2023.csv\", index_col=0)\n",
    "df_price = pd.read_csv(\"../data/apple_2023/price_apple_2023.csv\", index_col=0)\n",
    "df_news[\"date\"] = pd.to_datetime(df_news['date'])\n",
    "df_price[\"date\"] = pd.to_datetime(df_price['date'])\n",
    "print(df_news.head())\n",
    "print(df_price.head())"
   ]
  },
  {
   "cell_type": "code",
   "execution_count": null,
   "metadata": {},
   "outputs": [],
   "source": [
    "dfs = []\n",
    "for i in range(1, 6):\n",
    "    df_score = pd.read_csv(f\"../data/apple_2023/news_score_apple_2023_{i}.csv\", index_col=0)\n",
    "    print(df_score.shape)\n",
    "    df_score = df_score[[\"date\", \"score\"]]\n",
    "    df_score[\"date\"] = pd.to_datetime(df_score['date'])\n",
    "    dfs.append(df_score)\n",
    "    \n",
    "df_score = pd.concat(dfs)\n",
    "df_score.reset_index(drop = True, inplace = True)\n",
    "df_score.to_csv(\"../data/apple_2023/news_score_apple_2023_all.csv\")\n",
    "df_score\n",
    "\n",
    "\n",
    "# df_score = pd.read_csv(f\"../data/apple_2023/news_score_apple_2023_{1}.csv\", index_col=0)\n",
    "# print(df_score.shape)\n",
    "# df_score = df_score[[\"date\", \"score\"]]\n",
    "# df_score[\"date\"] = pd.to_datetime(df_score['date'])"
   ]
  },
  {
   "cell_type": "code",
   "execution_count": null,
   "metadata": {},
   "outputs": [],
   "source": [
    "df_score = df_score.sort_values(\"date\")\n",
    "df_score.reset_index(drop = True, inplace = True)\n",
    "df_score"
   ]
  },
  {
   "cell_type": "code",
   "execution_count": null,
   "metadata": {},
   "outputs": [],
   "source": [
    "df_score[\"score\"].value_counts()"
   ]
  },
  {
   "cell_type": "code",
   "execution_count": null,
   "metadata": {},
   "outputs": [],
   "source": [
    "date_price_dict = df_price.set_index('date')['price'].to_dict()\n",
    "# date_price_dict"
   ]
  },
  {
   "cell_type": "code",
   "execution_count": null,
   "metadata": {},
   "outputs": [],
   "source": [
    "def find_whole_minute_time_after_n_minutes(time, n):\n",
    "    new_time = time + pd.Timedelta(minutes=n)\n",
    "    if new_time.second > 0:\n",
    "        new_time += pd.Timedelta(minutes=1)\n",
    "        new_time = new_time.replace(second=0, microsecond=0)\n",
    "    return new_time"
   ]
  },
  {
   "cell_type": "code",
   "execution_count": null,
   "metadata": {},
   "outputs": [],
   "source": [
    "df_news.shape"
   ]
  },
  {
   "cell_type": "code",
   "execution_count": null,
   "metadata": {},
   "outputs": [],
   "source": [
    "\n",
    "columns = [f\"price_in_{i}\" for i in range(61)]\n",
    "deltas = [i for i in range(61)]\n",
    "pd_price = np.zeros((df_news.shape[0], 61))\n",
    "\n",
    "for i in range(df_news.shape[0]):\n",
    "    time = df_news[\"date\"][i]\n",
    "    for j in range(61):\n",
    "        delta = deltas[j]\n",
    "        new_time = find_whole_minute_time_after_n_minutes(time, delta)\n",
    "        if new_time in date_price_dict:\n",
    "            pd_price[i, j] = date_price_dict[new_time]"
   ]
  },
  {
   "cell_type": "code",
   "execution_count": null,
   "metadata": {},
   "outputs": [],
   "source": [
    "date_price_dict"
   ]
  },
  {
   "cell_type": "code",
   "execution_count": null,
   "metadata": {},
   "outputs": [],
   "source": [
    "pd_price = pd.DataFrame(pd_price, columns=columns)\n",
    "result_df = pd.concat([df_news, pd_price], axis=1)"
   ]
  },
  {
   "cell_type": "code",
   "execution_count": null,
   "metadata": {},
   "outputs": [],
   "source": [
    "result_df"
   ]
  },
  {
   "cell_type": "code",
   "execution_count": null,
   "metadata": {},
   "outputs": [],
   "source": [
    "df_score"
   ]
  },
  {
   "cell_type": "code",
   "execution_count": null,
   "metadata": {},
   "outputs": [],
   "source": [
    "result_df.replace(0, pd.NA, inplace=True)\n",
    "result_df = result_df.merge(df_score, on='date', how='left')\n",
    "result_df[\"score\"] = result_df[\"score\"].astype(float)\n",
    "result_df = result_df.dropna()\n",
    "\n",
    "\n",
    "\n",
    "return_cols = [f\"return_in_{i}\" for i in range(1,61)]\n",
    "price_cols = [f\"price_in_{i}\" for i in range(61)]\n",
    "\n",
    "for i in range(60):\n",
    "    result_df[return_cols[i]] = (result_df[price_cols[i]] - result_df[\"price_in_0\"]) / result_df[\"price_in_0\"]\n",
    "    result_df[return_cols[i]] = result_df[return_cols[i]].astype(float)\n",
    "for col in price_cols:\n",
    "    result_df.drop(col, axis=1, inplace=True)\n",
    "result_df = result_df.dropna()\n",
    "result_df"
   ]
  },
  {
   "cell_type": "code",
   "execution_count": null,
   "metadata": {},
   "outputs": [],
   "source": [
    "result_df = result_df.dropna()"
   ]
  },
  {
   "cell_type": "code",
   "execution_count": null,
   "metadata": {},
   "outputs": [],
   "source": [
    "result_df.describe(include='all')"
   ]
  },
  {
   "cell_type": "code",
   "execution_count": null,
   "metadata": {},
   "outputs": [],
   "source": [
    "result_df[result_df['score'] == i][f\"return_in_{j}\"].mean()"
   ]
  },
  {
   "cell_type": "code",
   "execution_count": null,
   "metadata": {},
   "outputs": [],
   "source": [
    "# import seaborn as sns\n",
    "# for return_col in ['return_in_5', 'return_in_10', 'return_in_20', 'return_in_60']:\n",
    "#     sns.scatterplot(x='score', y=return_col, data=result_df, alpha=0.1)\n",
    "#     plt.title(f'Score vs {return_col}')\n",
    "#     plt.show()"
   ]
  },
  {
   "cell_type": "code",
   "execution_count": null,
   "metadata": {},
   "outputs": [],
   "source": [
    "import matplotlib.pyplot as plt\n",
    "for i in [-1, 0, 1]:\n",
    "    arr = []\n",
    "    for j in range(1, 61):\n",
    "        avg_return = result_df[result_df['score'] == i][f\"return_in_{j}\"].mean()\n",
    "        arr.append(avg_return)\n",
    "    plt.plot(list(range(1,61)), arr, label=f'Label {i}')\n",
    "\n",
    "plt.legend()\n",
    "plt.show()\n",
    "    "
   ]
  },
  {
   "cell_type": "code",
   "execution_count": null,
   "metadata": {},
   "outputs": [],
   "source": [
    "\n",
    "for j in [-1, 0, 1]:\n",
    "    print(f\"When score is {j}, the mean return is {result_df[result_df['score'] == j]['return_in_60'].mean()*10000}\")\n",
    "    "
   ]
  },
  {
   "cell_type": "code",
   "execution_count": null,
   "metadata": {},
   "outputs": [],
   "source": []
  }
 ],
 "metadata": {
  "kernelspec": {
   "display_name": "base",
   "language": "python",
   "name": "python3"
  },
  "language_info": {
   "codemirror_mode": {
    "name": "ipython",
    "version": 3
   },
   "file_extension": ".py",
   "mimetype": "text/x-python",
   "name": "python",
   "nbconvert_exporter": "python",
   "pygments_lexer": "ipython3",
   "version": "3.9.13"
  }
 },
 "nbformat": 4,
 "nbformat_minor": 2
}
