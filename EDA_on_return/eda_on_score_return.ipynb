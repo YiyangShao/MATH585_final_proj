{
 "cells": [
  {
   "cell_type": "code",
   "execution_count": 1,
   "metadata": {},
   "outputs": [],
   "source": [
    "import pandas as pd\n",
    "import numpy as np\n",
    "import sys\n",
    "sys.path.append('../')\n",
    "import pandas as pd\n",
    "from src.gpt_prompt import get_sentiment_general, get_sentiment_general_parallel, get_risk_score\n",
    "import datetime"
   ]
  },
  {
   "cell_type": "code",
   "execution_count": 2,
   "metadata": {},
   "outputs": [
    {
     "name": "stdout",
     "output_type": "stream",
     "text": [
      "                 date                                               news\n",
      "0 2022-01-01 00:32:44  I actually lost weight this holiday season — t...\n",
      "1 2022-01-01 00:52:34  January Dogs Of The Dow Need A PullbackThirty-...\n",
      "2 2022-01-01 01:04:02  I switched from Android to iPhone — here's wha...\n",
      "3 2022-01-01 01:36:26  365 Inspirational Quotes for 2022Inspiring, po...\n",
      "4 2022-01-01 02:06:21  Is Fitbit Premium worth it? Here's the pros an...\n",
      "                 date       price\n",
      "0 2022-01-03 09:31:00  175.826576\n",
      "1 2022-01-03 09:32:00  176.596792\n",
      "2 2022-01-03 09:33:00  176.636290\n",
      "3 2022-01-03 09:34:00  176.776509\n",
      "4 2022-01-03 09:35:00  176.705412\n"
     ]
    }
   ],
   "source": [
    "df_news = pd.read_csv(\"../data/news_apple_2022.csv\", index_col=0)\n",
    "df_price = pd.read_csv(\"../data/price_apple_2022.csv\", index_col=0)\n",
    "df_news[\"date\"] = pd.to_datetime(df_news['date'])\n",
    "df_price[\"date\"] = pd.to_datetime(df_price['date'])\n",
    "print(df_news.head())\n",
    "print(df_price.head())"
   ]
  },
  {
   "cell_type": "code",
   "execution_count": 3,
   "metadata": {},
   "outputs": [],
   "source": [
    "df_score = pd.read_csv(\"../data/news_score_apple_2022_4.csv\", index_col=0)\n",
    "df_score = df_score[[\"date\", \"score\"]]\n",
    "df_score[\"date\"] = pd.to_datetime(df_score['date'])"
   ]
  },
  {
   "cell_type": "code",
   "execution_count": null,
   "metadata": {},
   "outputs": [],
   "source": []
  },
  {
   "cell_type": "code",
   "execution_count": 4,
   "metadata": {},
   "outputs": [],
   "source": [
    "date_price_dict = df_price.set_index('date')['price'].to_dict()\n",
    "# date_price_dict"
   ]
  },
  {
   "cell_type": "code",
   "execution_count": 5,
   "metadata": {},
   "outputs": [],
   "source": [
    "def find_whole_minute_time_after_n_minutes(time, n):\n",
    "    new_time = time + pd.Timedelta(minutes=n)\n",
    "    if new_time.second > 0:\n",
    "        new_time += pd.Timedelta(minutes=1)\n",
    "        new_time = new_time.replace(second=0, microsecond=0)\n",
    "    return new_time"
   ]
  },
  {
   "cell_type": "code",
   "execution_count": 6,
   "metadata": {},
   "outputs": [
    {
     "data": {
      "text/plain": [
       "(43832, 2)"
      ]
     },
     "execution_count": 6,
     "metadata": {},
     "output_type": "execute_result"
    }
   ],
   "source": [
    "df_news.shape"
   ]
  },
  {
   "cell_type": "code",
   "execution_count": 7,
   "metadata": {},
   "outputs": [],
   "source": [
    "\n",
    "columns = [\"price_now\", \"price_in5\", \"price_in10\", \"price_in30\", \"price_in60\"]\n",
    "deltas = [0, 5, 10, 30, 60]\n",
    "pd_price = np.zeros((df_news.shape[0], 5))\n",
    "\n",
    "for i in range(df_news.shape[0]):\n",
    "    time = df_news[\"date\"][i]\n",
    "    for j in range(5):\n",
    "        delta = deltas[j]\n",
    "        new_time = find_whole_minute_time_after_n_minutes(time, delta)\n",
    "        if new_time in date_price_dict:\n",
    "            pd_price[i, j] = date_price_dict[new_time]"
   ]
  },
  {
   "cell_type": "code",
   "execution_count": 8,
   "metadata": {},
   "outputs": [],
   "source": [
    "pd_price = pd.DataFrame(pd_price, columns=columns)\n",
    "result_df = pd.concat([df_news, pd_price], axis=1)"
   ]
  },
  {
   "cell_type": "code",
   "execution_count": 9,
   "metadata": {},
   "outputs": [
    {
     "data": {
      "text/html": [
       "<div>\n",
       "<style scoped>\n",
       "    .dataframe tbody tr th:only-of-type {\n",
       "        vertical-align: middle;\n",
       "    }\n",
       "\n",
       "    .dataframe tbody tr th {\n",
       "        vertical-align: top;\n",
       "    }\n",
       "\n",
       "    .dataframe thead th {\n",
       "        text-align: right;\n",
       "    }\n",
       "</style>\n",
       "<table border=\"1\" class=\"dataframe\">\n",
       "  <thead>\n",
       "    <tr style=\"text-align: right;\">\n",
       "      <th></th>\n",
       "      <th>date</th>\n",
       "      <th>news</th>\n",
       "      <th>price_now</th>\n",
       "      <th>score</th>\n",
       "      <th>return_in5</th>\n",
       "      <th>return_in10</th>\n",
       "      <th>return_in20</th>\n",
       "      <th>return_in60</th>\n",
       "    </tr>\n",
       "  </thead>\n",
       "  <tbody>\n",
       "    <tr>\n",
       "      <th>113</th>\n",
       "      <td>2022-01-03 09:39:53</td>\n",
       "      <td>Apple's wearable gadget business grew like gan...</td>\n",
       "      <td>178.068103</td>\n",
       "      <td>1.0</td>\n",
       "      <td>0.001497</td>\n",
       "      <td>-0.002163</td>\n",
       "      <td>0.004714</td>\n",
       "      <td>0.003161</td>\n",
       "    </tr>\n",
       "    <tr>\n",
       "      <th>123</th>\n",
       "      <td>2022-01-03 10:22:45</td>\n",
       "      <td>Water Ways Technologies Strengthens its Board ...</td>\n",
       "      <td>178.349528</td>\n",
       "      <td>1.0</td>\n",
       "      <td>0.001966</td>\n",
       "      <td>0.001301</td>\n",
       "      <td>0.002575</td>\n",
       "      <td>0.002962</td>\n",
       "    </tr>\n",
       "    <tr>\n",
       "      <th>133</th>\n",
       "      <td>2022-01-03 11:14:35</td>\n",
       "      <td>OPEC+ Set to Boost Supply Again With Oil Marke...</td>\n",
       "      <td>178.551957</td>\n",
       "      <td>1.0</td>\n",
       "      <td>0.000774</td>\n",
       "      <td>0.002876</td>\n",
       "      <td>0.003650</td>\n",
       "      <td>0.002599</td>\n",
       "    </tr>\n",
       "    <tr>\n",
       "      <th>143</th>\n",
       "      <td>2022-01-03 11:45:53</td>\n",
       "      <td>Apple's Series 7 Watch Drops to Its Lowest Pri...</td>\n",
       "      <td>179.253051</td>\n",
       "      <td>1.0</td>\n",
       "      <td>0.000220</td>\n",
       "      <td>0.000413</td>\n",
       "      <td>-0.000992</td>\n",
       "      <td>0.002589</td>\n",
       "    </tr>\n",
       "    <tr>\n",
       "      <th>153</th>\n",
       "      <td>2022-01-03 12:51:41</td>\n",
       "      <td>Most Active Equity Options For Midday - Monday...</td>\n",
       "      <td>179.687532</td>\n",
       "      <td>0.0</td>\n",
       "      <td>-0.000769</td>\n",
       "      <td>-0.001374</td>\n",
       "      <td>0.000879</td>\n",
       "      <td>0.003242</td>\n",
       "    </tr>\n",
       "    <tr>\n",
       "      <th>...</th>\n",
       "      <td>...</td>\n",
       "      <td>...</td>\n",
       "      <td>...</td>\n",
       "      <td>...</td>\n",
       "      <td>...</td>\n",
       "      <td>...</td>\n",
       "      <td>...</td>\n",
       "      <td>...</td>\n",
       "    </tr>\n",
       "    <tr>\n",
       "      <th>31893</th>\n",
       "      <td>2022-09-22 10:05:39</td>\n",
       "      <td>2 Monster Stocks to Buy Without Any Hesitation...</td>\n",
       "      <td>151.200407</td>\n",
       "      <td>1.0</td>\n",
       "      <td>0.000656</td>\n",
       "      <td>0.002558</td>\n",
       "      <td>0.000131</td>\n",
       "      <td>-0.005640</td>\n",
       "    </tr>\n",
       "    <tr>\n",
       "      <th>31903</th>\n",
       "      <td>2022-09-22 11:14:30</td>\n",
       "      <td>Saoirse Ronan To Star In Steve McQueen's 'Blit...</td>\n",
       "      <td>150.184076</td>\n",
       "      <td>1.0</td>\n",
       "      <td>-0.001287</td>\n",
       "      <td>-0.002872</td>\n",
       "      <td>0.002278</td>\n",
       "      <td>0.001419</td>\n",
       "    </tr>\n",
       "    <tr>\n",
       "      <th>31913</th>\n",
       "      <td>2022-09-22 12:34:34</td>\n",
       "      <td>Tom Russo on His Investing Strategy and Lesson...</td>\n",
       "      <td>150.669932</td>\n",
       "      <td>1.0</td>\n",
       "      <td>0.002534</td>\n",
       "      <td>0.002534</td>\n",
       "      <td>0.002402</td>\n",
       "      <td>0.004672</td>\n",
       "    </tr>\n",
       "    <tr>\n",
       "      <th>31923</th>\n",
       "      <td>2022-09-22 13:53:35</td>\n",
       "      <td>Film Exec Emily Wolfe Joins Plan B Entertainme...</td>\n",
       "      <td>151.557363</td>\n",
       "      <td>1.0</td>\n",
       "      <td>-0.001178</td>\n",
       "      <td>-0.002126</td>\n",
       "      <td>-0.005430</td>\n",
       "      <td>-0.000458</td>\n",
       "    </tr>\n",
       "    <tr>\n",
       "      <th>31933</th>\n",
       "      <td>2022-09-22 14:52:56</td>\n",
       "      <td>10 Most Searched Stocks on Insider MonkeyIn th...</td>\n",
       "      <td>151.418547</td>\n",
       "      <td>1.0</td>\n",
       "      <td>0.000524</td>\n",
       "      <td>0.004322</td>\n",
       "      <td>0.004387</td>\n",
       "      <td>0.005370</td>\n",
       "    </tr>\n",
       "  </tbody>\n",
       "</table>\n",
       "<p>1041 rows × 8 columns</p>\n",
       "</div>"
      ],
      "text/plain": [
       "                     date                                               news  \\\n",
       "113   2022-01-03 09:39:53  Apple's wearable gadget business grew like gan...   \n",
       "123   2022-01-03 10:22:45  Water Ways Technologies Strengthens its Board ...   \n",
       "133   2022-01-03 11:14:35  OPEC+ Set to Boost Supply Again With Oil Marke...   \n",
       "143   2022-01-03 11:45:53  Apple's Series 7 Watch Drops to Its Lowest Pri...   \n",
       "153   2022-01-03 12:51:41  Most Active Equity Options For Midday - Monday...   \n",
       "...                   ...                                                ...   \n",
       "31893 2022-09-22 10:05:39  2 Monster Stocks to Buy Without Any Hesitation...   \n",
       "31903 2022-09-22 11:14:30  Saoirse Ronan To Star In Steve McQueen's 'Blit...   \n",
       "31913 2022-09-22 12:34:34  Tom Russo on His Investing Strategy and Lesson...   \n",
       "31923 2022-09-22 13:53:35  Film Exec Emily Wolfe Joins Plan B Entertainme...   \n",
       "31933 2022-09-22 14:52:56  10 Most Searched Stocks on Insider MonkeyIn th...   \n",
       "\n",
       "        price_now  score  return_in5  return_in10  return_in20  return_in60  \n",
       "113    178.068103    1.0    0.001497    -0.002163     0.004714     0.003161  \n",
       "123    178.349528    1.0    0.001966     0.001301     0.002575     0.002962  \n",
       "133    178.551957    1.0    0.000774     0.002876     0.003650     0.002599  \n",
       "143    179.253051    1.0    0.000220     0.000413    -0.000992     0.002589  \n",
       "153    179.687532    0.0   -0.000769    -0.001374     0.000879     0.003242  \n",
       "...           ...    ...         ...          ...          ...          ...  \n",
       "31893  151.200407    1.0    0.000656     0.002558     0.000131    -0.005640  \n",
       "31903  150.184076    1.0   -0.001287    -0.002872     0.002278     0.001419  \n",
       "31913  150.669932    1.0    0.002534     0.002534     0.002402     0.004672  \n",
       "31923  151.557363    1.0   -0.001178    -0.002126    -0.005430    -0.000458  \n",
       "31933  151.418547    1.0    0.000524     0.004322     0.004387     0.005370  \n",
       "\n",
       "[1041 rows x 8 columns]"
      ]
     },
     "execution_count": 9,
     "metadata": {},
     "output_type": "execute_result"
    }
   ],
   "source": [
    "result_df.replace(0, pd.NA, inplace=True)\n",
    "result_df = result_df.merge(df_score, on='date', how='left')\n",
    "result_df[\"score\"] = result_df[\"score\"].astype(float)\n",
    "result_df = result_df.dropna()\n",
    "\n",
    "\n",
    "\n",
    "return_cols = [\"return_in5\", \"return_in10\", \"return_in20\", \"return_in60\"]\n",
    "price_cols = [\"price_in5\", \"price_in10\", \"price_in30\", \"price_in60\"]\n",
    "\n",
    "for i in range(4):\n",
    "    result_df[return_cols[i]] = (result_df[price_cols[i]] - result_df[\"price_now\"]) / result_df[\"price_now\"]\n",
    "    result_df[return_cols[i]] = result_df[return_cols[i]].astype(float)\n",
    "for col in price_cols:\n",
    "    result_df.drop(col, axis=1, inplace=True)\n",
    "result_df"
   ]
  },
  {
   "cell_type": "code",
   "execution_count": 10,
   "metadata": {},
   "outputs": [],
   "source": [
    "result_df = result_df.dropna()"
   ]
  },
  {
   "cell_type": "code",
   "execution_count": 11,
   "metadata": {},
   "outputs": [
    {
     "name": "stderr",
     "output_type": "stream",
     "text": [
      "/var/folders/v0/_fszh3l96cz8c79p9psn63y80000gn/T/ipykernel_24427/3235814888.py:1: FutureWarning: Treating datetime data as categorical rather than numeric in `.describe` is deprecated and will be removed in a future version of pandas. Specify `datetime_is_numeric=True` to silence this warning and adopt the future behavior now.\n",
      "  result_df.describe(include='all')\n"
     ]
    },
    {
     "data": {
      "text/html": [
       "<div>\n",
       "<style scoped>\n",
       "    .dataframe tbody tr th:only-of-type {\n",
       "        vertical-align: middle;\n",
       "    }\n",
       "\n",
       "    .dataframe tbody tr th {\n",
       "        vertical-align: top;\n",
       "    }\n",
       "\n",
       "    .dataframe thead th {\n",
       "        text-align: right;\n",
       "    }\n",
       "</style>\n",
       "<table border=\"1\" class=\"dataframe\">\n",
       "  <thead>\n",
       "    <tr style=\"text-align: right;\">\n",
       "      <th></th>\n",
       "      <th>date</th>\n",
       "      <th>news</th>\n",
       "      <th>price_now</th>\n",
       "      <th>score</th>\n",
       "      <th>return_in5</th>\n",
       "      <th>return_in10</th>\n",
       "      <th>return_in20</th>\n",
       "      <th>return_in60</th>\n",
       "    </tr>\n",
       "  </thead>\n",
       "  <tbody>\n",
       "    <tr>\n",
       "      <th>count</th>\n",
       "      <td>1041</td>\n",
       "      <td>1041</td>\n",
       "      <td>1041.000000</td>\n",
       "      <td>1041.000000</td>\n",
       "      <td>1041.000000</td>\n",
       "      <td>1041.000000</td>\n",
       "      <td>1041.000000</td>\n",
       "      <td>1041.000000</td>\n",
       "    </tr>\n",
       "    <tr>\n",
       "      <th>unique</th>\n",
       "      <td>1041</td>\n",
       "      <td>1036</td>\n",
       "      <td>986.000000</td>\n",
       "      <td>NaN</td>\n",
       "      <td>NaN</td>\n",
       "      <td>NaN</td>\n",
       "      <td>NaN</td>\n",
       "      <td>NaN</td>\n",
       "    </tr>\n",
       "    <tr>\n",
       "      <th>top</th>\n",
       "      <td>2022-01-03 09:39:53</td>\n",
       "      <td>DesignCon Makes a Strong Return to Santa Clara...</td>\n",
       "      <td>164.986872</td>\n",
       "      <td>NaN</td>\n",
       "      <td>NaN</td>\n",
       "      <td>NaN</td>\n",
       "      <td>NaN</td>\n",
       "      <td>NaN</td>\n",
       "    </tr>\n",
       "    <tr>\n",
       "      <th>freq</th>\n",
       "      <td>1</td>\n",
       "      <td>2</td>\n",
       "      <td>3.000000</td>\n",
       "      <td>NaN</td>\n",
       "      <td>NaN</td>\n",
       "      <td>NaN</td>\n",
       "      <td>NaN</td>\n",
       "      <td>NaN</td>\n",
       "    </tr>\n",
       "    <tr>\n",
       "      <th>first</th>\n",
       "      <td>2022-01-03 09:39:53</td>\n",
       "      <td>NaN</td>\n",
       "      <td>NaN</td>\n",
       "      <td>NaN</td>\n",
       "      <td>NaN</td>\n",
       "      <td>NaN</td>\n",
       "      <td>NaN</td>\n",
       "      <td>NaN</td>\n",
       "    </tr>\n",
       "    <tr>\n",
       "      <th>last</th>\n",
       "      <td>2022-09-22 14:52:56</td>\n",
       "      <td>NaN</td>\n",
       "      <td>NaN</td>\n",
       "      <td>NaN</td>\n",
       "      <td>NaN</td>\n",
       "      <td>NaN</td>\n",
       "      <td>NaN</td>\n",
       "      <td>NaN</td>\n",
       "    </tr>\n",
       "    <tr>\n",
       "      <th>mean</th>\n",
       "      <td>NaN</td>\n",
       "      <td>NaN</td>\n",
       "      <td>NaN</td>\n",
       "      <td>0.521614</td>\n",
       "      <td>0.000034</td>\n",
       "      <td>0.000037</td>\n",
       "      <td>0.000113</td>\n",
       "      <td>-0.000091</td>\n",
       "    </tr>\n",
       "    <tr>\n",
       "      <th>std</th>\n",
       "      <td>NaN</td>\n",
       "      <td>NaN</td>\n",
       "      <td>NaN</td>\n",
       "      <td>0.746636</td>\n",
       "      <td>0.001988</td>\n",
       "      <td>0.002749</td>\n",
       "      <td>0.004571</td>\n",
       "      <td>0.006231</td>\n",
       "    </tr>\n",
       "    <tr>\n",
       "      <th>min</th>\n",
       "      <td>NaN</td>\n",
       "      <td>NaN</td>\n",
       "      <td>NaN</td>\n",
       "      <td>-1.000000</td>\n",
       "      <td>-0.012320</td>\n",
       "      <td>-0.018673</td>\n",
       "      <td>-0.022671</td>\n",
       "      <td>-0.028552</td>\n",
       "    </tr>\n",
       "    <tr>\n",
       "      <th>25%</th>\n",
       "      <td>NaN</td>\n",
       "      <td>NaN</td>\n",
       "      <td>NaN</td>\n",
       "      <td>0.000000</td>\n",
       "      <td>-0.000971</td>\n",
       "      <td>-0.001467</td>\n",
       "      <td>-0.002465</td>\n",
       "      <td>-0.003420</td>\n",
       "    </tr>\n",
       "    <tr>\n",
       "      <th>50%</th>\n",
       "      <td>NaN</td>\n",
       "      <td>NaN</td>\n",
       "      <td>NaN</td>\n",
       "      <td>1.000000</td>\n",
       "      <td>0.000033</td>\n",
       "      <td>0.000032</td>\n",
       "      <td>0.000131</td>\n",
       "      <td>0.000346</td>\n",
       "    </tr>\n",
       "    <tr>\n",
       "      <th>75%</th>\n",
       "      <td>NaN</td>\n",
       "      <td>NaN</td>\n",
       "      <td>NaN</td>\n",
       "      <td>1.000000</td>\n",
       "      <td>0.001086</td>\n",
       "      <td>0.001510</td>\n",
       "      <td>0.002855</td>\n",
       "      <td>0.003404</td>\n",
       "    </tr>\n",
       "    <tr>\n",
       "      <th>max</th>\n",
       "      <td>NaN</td>\n",
       "      <td>NaN</td>\n",
       "      <td>NaN</td>\n",
       "      <td>1.000000</td>\n",
       "      <td>0.012748</td>\n",
       "      <td>0.013734</td>\n",
       "      <td>0.025373</td>\n",
       "      <td>0.027913</td>\n",
       "    </tr>\n",
       "  </tbody>\n",
       "</table>\n",
       "</div>"
      ],
      "text/plain": [
       "                       date  \\\n",
       "count                  1041   \n",
       "unique                 1041   \n",
       "top     2022-01-03 09:39:53   \n",
       "freq                      1   \n",
       "first   2022-01-03 09:39:53   \n",
       "last    2022-09-22 14:52:56   \n",
       "mean                    NaN   \n",
       "std                     NaN   \n",
       "min                     NaN   \n",
       "25%                     NaN   \n",
       "50%                     NaN   \n",
       "75%                     NaN   \n",
       "max                     NaN   \n",
       "\n",
       "                                                     news    price_now  \\\n",
       "count                                                1041  1041.000000   \n",
       "unique                                               1036   986.000000   \n",
       "top     DesignCon Makes a Strong Return to Santa Clara...   164.986872   \n",
       "freq                                                    2     3.000000   \n",
       "first                                                 NaN          NaN   \n",
       "last                                                  NaN          NaN   \n",
       "mean                                                  NaN          NaN   \n",
       "std                                                   NaN          NaN   \n",
       "min                                                   NaN          NaN   \n",
       "25%                                                   NaN          NaN   \n",
       "50%                                                   NaN          NaN   \n",
       "75%                                                   NaN          NaN   \n",
       "max                                                   NaN          NaN   \n",
       "\n",
       "              score   return_in5  return_in10  return_in20  return_in60  \n",
       "count   1041.000000  1041.000000  1041.000000  1041.000000  1041.000000  \n",
       "unique          NaN          NaN          NaN          NaN          NaN  \n",
       "top             NaN          NaN          NaN          NaN          NaN  \n",
       "freq            NaN          NaN          NaN          NaN          NaN  \n",
       "first           NaN          NaN          NaN          NaN          NaN  \n",
       "last            NaN          NaN          NaN          NaN          NaN  \n",
       "mean       0.521614     0.000034     0.000037     0.000113    -0.000091  \n",
       "std        0.746636     0.001988     0.002749     0.004571     0.006231  \n",
       "min       -1.000000    -0.012320    -0.018673    -0.022671    -0.028552  \n",
       "25%        0.000000    -0.000971    -0.001467    -0.002465    -0.003420  \n",
       "50%        1.000000     0.000033     0.000032     0.000131     0.000346  \n",
       "75%        1.000000     0.001086     0.001510     0.002855     0.003404  \n",
       "max        1.000000     0.012748     0.013734     0.025373     0.027913  "
      ]
     },
     "execution_count": 11,
     "metadata": {},
     "output_type": "execute_result"
    }
   ],
   "source": [
    "result_df.describe(include='all')"
   ]
  },
  {
   "cell_type": "code",
   "execution_count": 12,
   "metadata": {},
   "outputs": [
    {
     "data": {
      "text/plain": [
       "date           datetime64[ns]\n",
       "news                   object\n",
       "price_now              object\n",
       "score                 float64\n",
       "return_in5            float64\n",
       "return_in10           float64\n",
       "return_in20           float64\n",
       "return_in60           float64\n",
       "dtype: object"
      ]
     },
     "execution_count": 12,
     "metadata": {},
     "output_type": "execute_result"
    }
   ],
   "source": [
    "result_df.dtypes"
   ]
  },
  {
   "cell_type": "code",
   "execution_count": 13,
   "metadata": {},
   "outputs": [],
   "source": [
    "correlation_matrix = result_df[[\"score\", 'return_in5', 'return_in10', 'return_in20', 'return_in60']].corr()"
   ]
  },
  {
   "cell_type": "code",
   "execution_count": 14,
   "metadata": {},
   "outputs": [
    {
     "data": {
      "text/html": [
       "<div>\n",
       "<style scoped>\n",
       "    .dataframe tbody tr th:only-of-type {\n",
       "        vertical-align: middle;\n",
       "    }\n",
       "\n",
       "    .dataframe tbody tr th {\n",
       "        vertical-align: top;\n",
       "    }\n",
       "\n",
       "    .dataframe thead th {\n",
       "        text-align: right;\n",
       "    }\n",
       "</style>\n",
       "<table border=\"1\" class=\"dataframe\">\n",
       "  <thead>\n",
       "    <tr style=\"text-align: right;\">\n",
       "      <th></th>\n",
       "      <th>score</th>\n",
       "      <th>return_in5</th>\n",
       "      <th>return_in10</th>\n",
       "      <th>return_in20</th>\n",
       "      <th>return_in60</th>\n",
       "    </tr>\n",
       "  </thead>\n",
       "  <tbody>\n",
       "    <tr>\n",
       "      <th>score</th>\n",
       "      <td>1.000000</td>\n",
       "      <td>-0.022953</td>\n",
       "      <td>0.021178</td>\n",
       "      <td>-0.023403</td>\n",
       "      <td>-0.042625</td>\n",
       "    </tr>\n",
       "    <tr>\n",
       "      <th>return_in5</th>\n",
       "      <td>-0.022953</td>\n",
       "      <td>1.000000</td>\n",
       "      <td>0.718970</td>\n",
       "      <td>0.414583</td>\n",
       "      <td>0.348337</td>\n",
       "    </tr>\n",
       "    <tr>\n",
       "      <th>return_in10</th>\n",
       "      <td>0.021178</td>\n",
       "      <td>0.718970</td>\n",
       "      <td>1.000000</td>\n",
       "      <td>0.576958</td>\n",
       "      <td>0.423558</td>\n",
       "    </tr>\n",
       "    <tr>\n",
       "      <th>return_in20</th>\n",
       "      <td>-0.023403</td>\n",
       "      <td>0.414583</td>\n",
       "      <td>0.576958</td>\n",
       "      <td>1.000000</td>\n",
       "      <td>0.709226</td>\n",
       "    </tr>\n",
       "    <tr>\n",
       "      <th>return_in60</th>\n",
       "      <td>-0.042625</td>\n",
       "      <td>0.348337</td>\n",
       "      <td>0.423558</td>\n",
       "      <td>0.709226</td>\n",
       "      <td>1.000000</td>\n",
       "    </tr>\n",
       "  </tbody>\n",
       "</table>\n",
       "</div>"
      ],
      "text/plain": [
       "                score  return_in5  return_in10  return_in20  return_in60\n",
       "score        1.000000   -0.022953     0.021178    -0.023403    -0.042625\n",
       "return_in5  -0.022953    1.000000     0.718970     0.414583     0.348337\n",
       "return_in10  0.021178    0.718970     1.000000     0.576958     0.423558\n",
       "return_in20 -0.023403    0.414583     0.576958     1.000000     0.709226\n",
       "return_in60 -0.042625    0.348337     0.423558     0.709226     1.000000"
      ]
     },
     "execution_count": 14,
     "metadata": {},
     "output_type": "execute_result"
    }
   ],
   "source": [
    "correlation_matrix"
   ]
  },
  {
   "cell_type": "code",
   "execution_count": 15,
   "metadata": {},
   "outputs": [
    {
     "data": {
      "image/png": "[encoded data removed]",
      "text/plain": [
       "<Figure size 640x480 with 2 Axes>"
      ]
     },
     "metadata": {},
     "output_type": "display_data"
    }
   ],
   "source": [
    "import seaborn as sns\n",
    "import matplotlib.pyplot as plt\n",
    "\n",
    "sns.heatmap(correlation_matrix, annot=True, cmap='coolwarm')\n",
    "plt.title('Correlation Matrix')\n",
    "plt.show()"
   ]
  },
  {
   "cell_type": "code",
   "execution_count": 16,
   "metadata": {},
   "outputs": [
    {
     "ename": "NameError",
     "evalue": "name 'df' is not defined",
     "output_type": "error",
     "traceback": [
      "\u001b[0;31m---------------------------------------------------------------------------\u001b[0m",
      "\u001b[0;31mNameError\u001b[0m                                 Traceback (most recent call last)",
      "\u001b[0;32m/var/folders/v0/_fszh3l96cz8c79p9psn63y80000gn/T/ipykernel_24427/2086691927.py\u001b[0m in \u001b[0;36m<module>\u001b[0;34m\u001b[0m\n\u001b[1;32m      1\u001b[0m \u001b[0;32mfor\u001b[0m \u001b[0mreturn_col\u001b[0m \u001b[0;32min\u001b[0m \u001b[0;34m[\u001b[0m\u001b[0;34m'return_in5'\u001b[0m\u001b[0;34m,\u001b[0m \u001b[0;34m'return_in10'\u001b[0m\u001b[0;34m,\u001b[0m \u001b[0;34m'return_in20'\u001b[0m\u001b[0;34m,\u001b[0m \u001b[0;34m'return_in60'\u001b[0m\u001b[0;34m]\u001b[0m\u001b[0;34m:\u001b[0m\u001b[0;34m\u001b[0m\u001b[0;34m\u001b[0m\u001b[0m\n\u001b[0;32m----> 2\u001b[0;31m     \u001b[0msns\u001b[0m\u001b[0;34m.\u001b[0m\u001b[0mscatterplot\u001b[0m\u001b[0;34m(\u001b[0m\u001b[0mx\u001b[0m\u001b[0;34m=\u001b[0m\u001b[0;34m'score'\u001b[0m\u001b[0;34m,\u001b[0m \u001b[0my\u001b[0m\u001b[0;34m=\u001b[0m\u001b[0mreturn_col\u001b[0m\u001b[0;34m,\u001b[0m \u001b[0mdata\u001b[0m\u001b[0;34m=\u001b[0m\u001b[0mdf\u001b[0m\u001b[0;34m)\u001b[0m\u001b[0;34m\u001b[0m\u001b[0;34m\u001b[0m\u001b[0m\n\u001b[0m\u001b[1;32m      3\u001b[0m     \u001b[0mplt\u001b[0m\u001b[0;34m.\u001b[0m\u001b[0mtitle\u001b[0m\u001b[0;34m(\u001b[0m\u001b[0;34mf'Score vs {return_col}'\u001b[0m\u001b[0;34m)\u001b[0m\u001b[0;34m\u001b[0m\u001b[0;34m\u001b[0m\u001b[0m\n\u001b[1;32m      4\u001b[0m     \u001b[0mplt\u001b[0m\u001b[0;34m.\u001b[0m\u001b[0mshow\u001b[0m\u001b[0;34m(\u001b[0m\u001b[0;34m)\u001b[0m\u001b[0;34m\u001b[0m\u001b[0;34m\u001b[0m\u001b[0m\n",
      "\u001b[0;31mNameError\u001b[0m: name 'df' is not defined"
     ]
    }
   ],
   "source": [
    "for return_col in ['return_in5', 'return_in10', 'return_in20', 'return_in60']:\n",
    "    sns.scatterplot(x='score', y=return_col, data=df)\n",
    "    plt.title(f'Score vs {return_col}')\n",
    "    plt.show()"
   ]
  },
  {
   "cell_type": "code",
   "execution_count": null,
   "metadata": {},
   "outputs": [
    {
     "data": {
      "text/plain": [
       "(1295, 4)"
      ]
     },
     "execution_count": 278,
     "metadata": {},
     "output_type": "execute_result"
    }
   ],
   "source": [
    "np.array(result_df[[\"return_in5\", \"return_in10\",\"return_in20\",\"return_in60\"]]).shape"
   ]
  },
  {
   "cell_type": "code",
   "execution_count": null,
   "metadata": {},
   "outputs": [
    {
     "data": {
      "text/plain": [
       "LinearRegression()"
      ]
     },
     "execution_count": 279,
     "metadata": {},
     "output_type": "execute_result"
    }
   ],
   "source": [
    "from sklearn.linear_model import LinearRegression\n",
    "\n",
    "lr = LinearRegression()\n",
    "X = np.array(result_df[\"score\"]).reshape(-1,1)\n",
    "y = np.array(result_df[[\"return_in5\", \"return_in10\",\"return_in20\",\"return_in60\"]])\n",
    "lr.fit(X, y)"
   ]
  },
  {
   "cell_type": "code",
   "execution_count": null,
   "metadata": {},
   "outputs": [
    {
     "data": {
      "text/plain": [
       "array([[ 2.49438278e-05],\n",
       "       [-1.45494302e-05],\n",
       "       [-7.75785446e-05],\n",
       "       [-8.88627389e-05]])"
      ]
     },
     "execution_count": 280,
     "metadata": {},
     "output_type": "execute_result"
    }
   ],
   "source": [
    "lr.coef_"
   ]
  },
  {
   "cell_type": "code",
   "execution_count": null,
   "metadata": {},
   "outputs": [],
   "source": []
  }
 ],
 "metadata": {
  "kernelspec": {
   "display_name": "base",
   "language": "python",
   "name": "python3"
  },
  "language_info": {
   "codemirror_mode": {
    "name": "ipython",
    "version": 3
   },
   "file_extension": ".py",
   "mimetype": "text/x-python",
   "name": "python",
   "nbconvert_exporter": "python",
   "pygments_lexer": "ipython3",
   "version": "3.9.13"
  }
 },
 "nbformat": 4,
 "nbformat_minor": 2
}
